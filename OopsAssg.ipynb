{
  "nbformat": 4,
  "nbformat_minor": 0,
  "metadata": {
    "colab": {
      "provenance": []
    },
    "kernelspec": {
      "name": "python3",
      "display_name": "Python 3"
    },
    "language_info": {
      "name": "python"
    }
  },
  "cells": [
    {
      "cell_type": "markdown",
      "source": [
        "# OOPs Ques-Ans"
      ],
      "metadata": {
        "id": "s6NMNHsgaohA"
      }
    },
    {
      "cell_type": "markdown",
      "source": [
        "1.What is Object-Oriented Programming (OOP)?\n",
        "\n",
        "Object-Oriented Programming (OOP) in Python is a programming paradigm that uses objects and classes to structure and organize code. It focuses on creating reusable and modular code by encapsulating data and behavior within objects.\n",
        "\n",
        "Key Concepts of OOP in Python\n",
        "1.Classes and Objects\n",
        "\n",
        "- Class: A blueprint for creating objects. It defines properties (attributes) and behaviors (methods).\n",
        "- Object: An instance of a class with specific values assigned to its attributes.\n",
        "\n",
        "2.Encapsulation\n",
        "\n",
        "- Restricting direct access to certain details of an object to prevent accidental modifications.\n",
        "- Achieved using private ( _varname or __varname) and public attributes/methods.\n",
        "\n",
        "3.Inheritance\n",
        "\n",
        "- A mechanism that allows a new class to inherit attributes and methods from an existing class.\n",
        "- Promotes code reusability.\n",
        "- Example: A Car class can inherit from a Vehicle class.\n",
        "\n",
        "4.Polymorphism\n",
        "\n",
        "- Allows different classes to have methods with the same name, enabling flexibility in code.\n",
        "- Example: Different classes can have their own implementation of a move() method.\n",
        "\n",
        "5.Abstraction\n",
        "\n",
        "- Hides implementation details and exposes only the necessary functionalities.\n",
        "- Achieved using abstract classes and methods (via ABC module).\n",
        "\n",
        "Example of OOP in Python\n"
      ],
      "metadata": {
        "id": "XFn82Jb5aeVl"
      }
    },
    {
      "cell_type": "code",
      "source": [
        "# Defining a class\n",
        "class Animal:\n",
        "    def __init__(self, name):\n",
        "        self.name = name  # Attribute\n",
        "\n",
        "    def speak(self):  # Method\n",
        "        return \"Animal makes a sound\"\n",
        "\n",
        "# Inheriting from Animal class\n",
        "class Dog(Animal):\n",
        "    def speak(self):\n",
        "        return \"Woof!\"\n",
        "\n",
        "class Cat(Animal):\n",
        "    def speak(self):\n",
        "        return \"Meow!\"\n",
        "\n",
        "# Creating objects\n",
        "dog = Dog(\"Buddy\")\n",
        "cat = Cat(\"Whiskers\")\n",
        "\n",
        "# Using methods\n",
        "print(dog.name, \"says:\", dog.speak())  # Buddy says: Woof!\n",
        "print(cat.name, \"says:\", cat.speak())  # Whiskers says: Meow!"
      ],
      "metadata": {
        "id": "IrU7R12RcZg8"
      },
      "execution_count": null,
      "outputs": []
    },
    {
      "cell_type": "markdown",
      "source": [
        "Why Use OOP?\n",
        "- Improves code organization and reusability\n",
        "- Supports scalability and modularity\n",
        "- Enhances code maintainability"
      ],
      "metadata": {
        "id": "ujyJDoCP5iDh"
      }
    },
    {
      "cell_type": "markdown",
      "source": [
        "**2.What is a class in OOP?**\n",
        "\n",
        "A class in Object-Oriented Programming (OOP) is a blueprint or template for creating objects. It defines the attributes (variables) and methods (functions) that describe the behavior of the objects.\n",
        "\n",
        "Key Characteristics of a Class:\n",
        "- 1.Encapsulates Data and Behavior – A class groups related data (attributes) and functions (methods) together.\n",
        "- 2.Creates Multiple Objects – Many objects can be created from the same class.\n",
        "- 3.Defines Object Structure – It defines how an object should look and behave.\n",
        "\n",
        "Class Syntax in Python:"
      ],
      "metadata": {
        "id": "LeWypuK759LE"
      }
    },
    {
      "cell_type": "code",
      "source": [
        "class Classname:\n",
        "  #Constructor (initialization method)\n",
        "  def__init__(self, attribute1, attribute2):\n",
        "    self.attribute1 = attribute1 #Attribute 1\n",
        "    self.attribute2 = attribute2 #Attribute 2\n",
        "\n",
        "  #Method (Function inside a class)\n",
        "  def show_info(self):\n",
        "    print(f\"Attribute 1: {self.attribute1}\")\n",
        "    print(f\"Attribute 2: {self.attribute2}\")"
      ],
      "metadata": {
        "id": "Jeut2PygdVYr"
      },
      "execution_count": null,
      "outputs": []
    },
    {
      "cell_type": "markdown",
      "source": [
        "Example: Creating a Class and Objects"
      ],
      "metadata": {
        "id": "PVw9-Q81eOaJ"
      }
    },
    {
      "cell_type": "code",
      "source": [
        "class Car:\n",
        "    def __init__(self, brand, model, year):\n",
        "        self.brand = brand  # Attribute\n",
        "        self.model = model  # Attribute\n",
        "        self.year = year  # Attribute\n",
        "\n",
        "    def display_info(self):\n",
        "        print(f\"{self.year} {self.brand} {self.model}\")\n",
        "\n",
        "# Creating objects (instances of the Car class)\n",
        "car1 = Car(\"Toyota\", \"Corolla\", 2022)\n",
        "car2 = Car(\"Honda\", \"Civic\", 2023)\n",
        "\n",
        "# Calling methods\n",
        "car1.display_info()  # Output: 2022 Toyota Corolla\n",
        "car2.display_info()  # Output: 2023 Honda Civic"
      ],
      "metadata": {
        "id": "3N7SYWRTeS2r"
      },
      "execution_count": null,
      "outputs": []
    },
    {
      "cell_type": "markdown",
      "source": [
        "Key Components of a Class\n",
        "- 1.__init__ Method (Constructor) –.Initializes object attributes.\n",
        "- 2.Attributes (Instance Variables) – Store object data (e.g., self.brand).\n",
        "- 3.Methods (Functions inside the Class) – Define behavior (e.g., display_info())."
      ],
      "metadata": {
        "id": "KSaUBsroeaYd"
      }
    },
    {
      "cell_type": "markdown",
      "source": [
        "**3. What is an object in OOP?**\n",
        "\n",
        "An object in Object-Oriented Programming (OOP) is an instance of a class. It is a real-world entity that has attributes (data) and methods (behavior) defined by its class.\n",
        "\n",
        "Key Characteristics of an Object:\n",
        "1.Instance of a Class – Created from a class definition.\n",
        "2.Has Attributes – Stores specific values (e.g., name, age).\n",
        "3.Has Methods – Can perform actions (e.g., speak(), run()).\n",
        "4.Independent – Multiple objects from the same class can have different attribute values.\n",
        "\n",
        "Example: Creating an Object in Python"
      ],
      "metadata": {
        "id": "sVzuoZygezNQ"
      }
    },
    {
      "cell_type": "code",
      "source": [
        "# Defining a class\n",
        "class Person:\n",
        "    def __init__(self, name, age):\n",
        "        self.name = name  # Attribute\n",
        "        self.age = age  # Attribute\n",
        "\n",
        "    def greet(self):  # Method\n",
        "        return f\"Hello, my name is {self.name} and I am {self.age} years old.\"\n",
        "\n",
        "# Creating objects (instances of the class)\n",
        "person1 = Person(\"Alice\", 25)\n",
        "person2 = Person(\"Bob\", 30)\n",
        "\n",
        "# Accessing attributes\n",
        "print(person1.name)  # Output: Alice\n",
        "print(person2.age)   # Output: 30\n",
        "\n",
        "# Calling methods\n",
        "print(person1.greet())  # Output: Hello, my name is Alice and I am 25 years old.\n",
        "print(person2.greet())  # Output: Hello, my name is Bob and I am 30 years old.\n"
      ],
      "metadata": {
        "id": "rots1BR1fkHt"
      },
      "execution_count": null,
      "outputs": []
    },
    {
      "cell_type": "markdown",
      "source": [
        "Key Points About Objects:\n",
        "-  Each object has its own copy of attributes (e.g., person1 and person2 have different name and age).\n",
        "-  Objects can call methods to perform actions.\n",
        "-  Multiple objects can be created from the same class, each with unique data."
      ],
      "metadata": {
        "id": "H6OYKT5dfqFe"
      }
    },
    {
      "cell_type": "markdown",
      "source": [
        "**4.What is the difference between abstraction and encapsulation?**\n",
        "\n",
        "Abstraction and Encapsulation are two fundamental concepts of Object-Oriented Programming (OOP), but they serve different purposes.\n",
        "\n",
        "Abstraction:\n",
        "- Definition- Hiding implementation  details and showing only the essential features.\n",
        "- Purpose- Focuses on what an object does.\n",
        "- Implementation-Achived using abstract classes and interfaces.\n",
        "- Benefit-Reduces complexity by hiding unnecessary details.\n",
        "\n",
        "  Example:A Car class has a start() method, but users don’t need to know how the engine starts internally.\n",
        "\n",
        "Encapsualtion:\n",
        "- Definition - Bundling data and methods together and restricting direct access to some data.\n",
        "- Purpose - Focuses on how data is protected.\n",
        "- Implementation - Achived using access modifiers(private, protected,public).\n",
        "- Benefit-Prevents unauthorized access and modification of data.\n",
        "\n",
        "Example:A Car class stores engine details privately (__engine), preventing direct modification.\n",
        "\n",
        "Example of Abstraction in Python\n",
        "Using abstract classes (via ABC module):\n",
        "\n",
        "\n"
      ],
      "metadata": {
        "id": "bd73BBWlfu52"
      }
    },
    {
      "cell_type": "code",
      "source": [
        "from abc import ABC, abstractmethod\n",
        "\n",
        "class Vehicle(ABC):  # Abstract class\n",
        "    @abstractmethod\n",
        "    def start(self):  # Abstract method\n",
        "        pass\n",
        "\n",
        "class Car(Vehicle):\n",
        "    def start(self):\n",
        "        return \"Car engine started!\"\n",
        "\n",
        "# obj = Vehicle()  # This would cause an error (abstract classes cannot be instantiated)\n",
        "car = Car()\n",
        "print(car.start())  # Output: Car engine started!\n"
      ],
      "metadata": {
        "id": "xOlGhIrois0v"
      },
      "execution_count": null,
      "outputs": []
    },
    {
      "cell_type": "markdown",
      "source": [
        " Abstraction hides the internal logic and forces subclasses to implement required methods.\n",
        "\n",
        "Example of Encapsulation in Python\n",
        "Using private variables:"
      ],
      "metadata": {
        "id": "BvE5Xo9-iyQW"
      }
    },
    {
      "cell_type": "code",
      "source": [
        "class Car:\n",
        "    def __init__(self, brand):\n",
        "        self.__brand = brand  # Private attribute\n",
        "\n",
        "    def get_brand(self):  # Public method to access private data\n",
        "        return self.__brand\n",
        "\n",
        "car = Car(\"Toyota\")\n",
        "# print(car.__brand)  # Error: Attribute is private\n",
        "print(car.get_brand())  # Output: Toyota\n"
      ],
      "metadata": {
        "id": "T5SU1sDJi6Q1"
      },
      "execution_count": null,
      "outputs": []
    },
    {
      "cell_type": "markdown",
      "source": [
        "Encapsulation restricts direct access to sensitive data using private attributes (__brand).\n",
        "\n",
        "Key Differences in Simple Terms\n",
        "- Abstraction is about hiding details and showing only essential functionality.\n",
        "- Encapsulation is about hiding data to prevent direct access or modification."
      ],
      "metadata": {
        "id": "XfXmhmWUi9DE"
      }
    },
    {
      "cell_type": "markdown",
      "source": [
        "**5.What are dunder methods in Python?**\n",
        "\n",
        "Dunder (Double Underscore) Methods in Python\n",
        "Dunder methods (short for \"double underscore methods\"), also known as magic methods or special methods, are built-in methods in Python that begin and end with double underscores (__).\n",
        "\n",
        "They allow you to define how objects of a class behave when used with built-in Python operations like arithmetic (+, -), comparisons (==, <), or built-in functions (len(), str()).\n",
        "\n",
        "Commonly Used Dunder Methods:\n",
        "\n",
        "- __init__ :Initial an object(constructor).\n",
        "- __str__ : Returns a user-friendly string representation(used by print() ).\n",
        "- __repr__: Returns a developer-friendly string representation(used by repr() ).\n",
        "- __add__: Defines behaviour for + operator.\n",
        "- __sub__: Defines behavior for - operator.\n",
        "- __mul__\tDefines behavior for * operator.\n",
        "- __eq__\tDefines behavior for == (equal to).\n",
        "- __lt__\tDefines behavior for < (less than).\n",
        "- __gt__\tDefines behavior for > (greater than).\n",
        "- __len__\tDefines behavior for len() function.\n",
        "__getitem__\tAllows indexing (e.g., obj[i]).\n",
        "__setitem__\tAllows setting values (e.g., obj[i] = value).\n",
        "- __enter__\tDefines behavior when using with statement.\n",
        "- __exit__\tDefines behavior when exiting a with block.\n",
        "\n",
        "Examples of Dunder Methods\n",
        "1. __init__ (Constructor)"
      ],
      "metadata": {
        "id": "2K_EJ5CJjRSW"
      }
    },
    {
      "cell_type": "code",
      "source": [
        "class Person:\n",
        "    def __init__(self, name, age):\n",
        "        self.name = name\n",
        "        self.age = age\n",
        "\n",
        "person = Person(\"Alice\", 25)  # Calls __init__()\n",
        "print(person.name)  # Output: Alice"
      ],
      "metadata": {
        "id": "ZyVcA0q_m88B"
      },
      "execution_count": null,
      "outputs": []
    },
    {
      "cell_type": "markdown",
      "source": [
        "2. __str__ and __repr__ (String Representation)"
      ],
      "metadata": {
        "id": "JzqIIWPUnBQW"
      }
    },
    {
      "cell_type": "code",
      "source": [
        "class Car:\n",
        "    def __init__(self, brand, model):\n",
        "        self.brand = brand\n",
        "        self.model = model\n",
        "\n",
        "    def __str__(self):\n",
        "        return f\"{self.brand} {self.model}\"  # User-friendly\n",
        "\n",
        "    def __repr__(self):\n",
        "        return f\"Car('{self.brand}', '{self.model}')\"  # Developer-friendly\n",
        "\n",
        "car = Car(\"Toyota\", \"Corolla\")\n",
        "print(car)  # Calls __str__(): Output: Toyota Corolla\n",
        "print(repr(car))  # Calls __repr__(): Output: Car('Toyota', 'Corolla')"
      ],
      "metadata": {
        "id": "jQ-zGK4wnCeb"
      },
      "execution_count": null,
      "outputs": []
    },
    {
      "cell_type": "markdown",
      "source": [
        "3. __add__ (Operator Overloading)"
      ],
      "metadata": {
        "id": "dSjs3iSMnJ_Q"
      }
    },
    {
      "cell_type": "code",
      "source": [
        "class Number:\n",
        "    def __init__(self, value):\n",
        "        self.value = value\n",
        "\n",
        "    def __add__(self, other):\n",
        "        return Number(self.value + other.value)\n",
        "\n",
        "num1 = Number(10)\n",
        "num2 = Number(5)\n",
        "result = num1 + num2  # Calls __add__()\n",
        "print(result.value)  # Output: 15"
      ],
      "metadata": {
        "id": "S6jsQMydnM8v"
      },
      "execution_count": null,
      "outputs": []
    },
    {
      "cell_type": "markdown",
      "source": [
        "4. __len__ (Length of Object)"
      ],
      "metadata": {
        "id": "E13TQZhVnSnE"
      }
    },
    {
      "cell_type": "code",
      "source": [
        "class Team:\n",
        "    def __init__(self, members):\n",
        "        self.members = members\n",
        "\n",
        "    def __len__(self):\n",
        "        return len(self.members)\n",
        "\n",
        "team = Team([\"Alice\", \"Bob\", \"Charlie\"])\n",
        "print(len(team))  # Calls __len__(): Output: 3"
      ],
      "metadata": {
        "id": "rqFXghpbnThZ"
      },
      "execution_count": null,
      "outputs": []
    },
    {
      "cell_type": "markdown",
      "source": [
        "Why Use Dunder Methods?\n",
        "- Enhance readability (e.g., print(obj) instead of obj.display()).\n",
        "- Make objects behave like built-in types (e.g., custom objects supporting +, len()).\n",
        "- Enable operator overloading and better integration with Python’s syntax."
      ],
      "metadata": {
        "id": "3ilfLk3unY_N"
      }
    },
    {
      "cell_type": "markdown",
      "source": [
        "**6.Explain the concept of inheritance in OOP.**\n",
        "\n",
        "Inheritance in Object-Oriented Programming (OOP)\n",
        "Inheritance is a fundamental concept in OOP that allows a new class (child/derived class) to inherit attributes and methods from an existing class (parent/base class). It promotes code reusability, reduces redundancy, and helps in building a hierarchical structure in programs.\n",
        "\n",
        "Key Features of Inheritance\n",
        "- Code Reusability – Child classes reuse the functionality of the parent class.\n",
        "- Extensibility – Child classes can override or extend the behavior of the parent class.\n",
        "- Hierarchical Structure – Helps in organizing code logically.\n",
        "\n",
        "Types of Inheritance in Python:\n",
        "- 1.Single Inheritance – One child class inherits from one parent class.\n",
        "- 2.Multiple Inheritance – A child class inherits from more than one parent class.\n",
        "- 3.Multilevel Inheritance – A child class inherits from another child class (grandparent → parent → child).\n",
        "- 4.Hierarchical Inheritance – Multiple child classes inherit from a single parent class.\n",
        "- 5.Hybrid Inheritance – A mix of multiple types of inheritance.\n",
        "\n",
        "1. Single Inheritance\n",
        "A single child class inherits from one parent class"
      ],
      "metadata": {
        "id": "V71uxWianjwf"
      }
    },
    {
      "cell_type": "code",
      "source": [
        "# Parent class\n",
        "class Animal:\n",
        "    def speak(self):\n",
        "        return \"Animal makes a sound\"\n",
        "\n",
        "# Child class inheriting from Animal\n",
        "class Dog(Animal):\n",
        "    def speak(self):\n",
        "        return \"Woof!\"\n",
        "\n",
        "# Creating an object of the Dog class\n",
        "dog = Dog()\n",
        "print(dog.speak())  # Output: Woof!\n",
        "\n",
        "\n",
        "#Dog inherits from Animal, and it overrides the speak() method."
      ],
      "metadata": {
        "id": "Yj9r7yploe0j"
      },
      "execution_count": null,
      "outputs": []
    },
    {
      "cell_type": "markdown",
      "source": [
        "2. Multiple Inheritance\n",
        "A class inherits from multiple parent classes."
      ],
      "metadata": {
        "id": "kWKFPnCqomOh"
      }
    },
    {
      "cell_type": "code",
      "source": [
        "class Father:\n",
        "    def talent(self):\n",
        "        return \"Great at painting\"\n",
        "\n",
        "class Mother:\n",
        "    def skill(self):\n",
        "        return \"Great at singing\"\n",
        "\n",
        "# Child class inheriting from both Father and Mother\n",
        "class Child(Father, Mother):\n",
        "    pass\n",
        "\n",
        "child = Child()\n",
        "print(child.talent())  # Output: Great at painting\n",
        "print(child.skill())   # Output: Great at singing\n",
        "\n",
        "#Child inherits from both Father and Mother, gaining access to both talent() and skill()."
      ],
      "metadata": {
        "id": "kj4kNYIcoq09"
      },
      "execution_count": null,
      "outputs": []
    },
    {
      "cell_type": "markdown",
      "source": [
        "3. Multilevel Inheritance\n",
        "A class inherits from a child class, forming a chain of inheritance."
      ],
      "metadata": {
        "id": "y8eATHyIo4I3"
      }
    },
    {
      "cell_type": "code",
      "source": [
        "class Grandparent:\n",
        "    def legacy(self):\n",
        "        return \"This is a family legacy\"\n",
        "\n",
        "class Parent(Grandparent):\n",
        "    def wisdom(self):\n",
        "        return \"Parents pass on wisdom\"\n",
        "\n",
        "class Child(Parent):\n",
        "    def ambition(self):\n",
        "        return \"I have my own dreams\"\n",
        "\n",
        "child = Child()\n",
        "print(child.legacy())  # Output: This is a family legacy\n",
        "print(child.wisdom())  # Output: Parents pass on wisdom\n",
        "print(child.ambition())  # Output: I have my own dreams\n",
        "\n",
        "#Child inherits from Parent, which in turn inherits from Grandparent."
      ],
      "metadata": {
        "id": "3Ls8bvZWo9CT"
      },
      "execution_count": null,
      "outputs": []
    },
    {
      "cell_type": "markdown",
      "source": [
        "4. Hierarchical Inheritance\n",
        "One parent class has multiple child classes."
      ],
      "metadata": {
        "id": "OTLDMVHwpJwT"
      }
    },
    {
      "cell_type": "code",
      "source": [
        "class Vehicle:\n",
        "    def mode_of_transport(self):\n",
        "        return \"This is a means of transport\"\n",
        "\n",
        "class Car(Vehicle):\n",
        "    def wheels(self):\n",
        "        return \"Cars have 4 wheels\"\n",
        "\n",
        "class Bike(Vehicle):\n",
        "    def wheels(self):\n",
        "        return \"Bikes have 2 wheels\"\n",
        "\n",
        "car = Car()\n",
        "bike = Bike()\n",
        "\n",
        "print(car.mode_of_transport())  # Output: This is a means of transport\n",
        "print(car.wheels())  # Output: Cars have 4 wheels\n",
        "print(bike.wheels())  # Output: Bikes have 2 wheels\n",
        "\n",
        "#Car and Bike both inherit from Vehicle but have their own unique methods."
      ],
      "metadata": {
        "id": "cNOPlYLepLep"
      },
      "execution_count": null,
      "outputs": []
    },
    {
      "cell_type": "markdown",
      "source": [
        "5. Hybrid Inheritance\n",
        "A combination of multiple types of inheritance."
      ],
      "metadata": {
        "id": "e9HqXOhmpX4W"
      }
    },
    {
      "cell_type": "code",
      "source": [
        "class A:\n",
        "    def method_A(self):\n",
        "        return \"Method from class A\"\n",
        "\n",
        "class B(A):\n",
        "    def method_B(self):\n",
        "        return \"Method from class B\"\n",
        "\n",
        "class C(A):\n",
        "    def method_C(self):\n",
        "        return \"Method from class C\"\n",
        "\n",
        "class D(B, C):\n",
        "    def method_D(self):\n",
        "        return \"Method from class D\"\n",
        "\n",
        "obj = D()\n",
        "print(obj.method_A())  # Inherited from A\n",
        "print(obj.method_B())  # Inherited from B\n",
        "print(obj.method_C())  # Inherited from C\n",
        "print(obj.method_D())  # Defined in D\n",
        "\n",
        "#Class D inherits from both B and C, which in turn inherit from A."
      ],
      "metadata": {
        "id": "4xqaDJlEpZz-"
      },
      "execution_count": null,
      "outputs": []
    },
    {
      "cell_type": "markdown",
      "source": [
        "Method Overriding in Inheritance\n",
        "A child class can redefine a method inherited from the parent class."
      ],
      "metadata": {
        "id": "EQ7flJlVplvT"
      }
    },
    {
      "cell_type": "code",
      "source": [
        "class Parent:\n",
        "    def show(self):\n",
        "        return \"This is the parent class\"\n",
        "\n",
        "class Child(Parent):\n",
        "    def show(self):  # Overriding the method\n",
        "        return \"This is the child class\"\n",
        "\n",
        "child = Child()\n",
        "print(child.show())  # Output: This is the child class\n",
        "\n",
        "#The show() method in Child class overrides the one in Parent class."
      ],
      "metadata": {
        "id": "g2KR7AZLpplN"
      },
      "execution_count": null,
      "outputs": []
    },
    {
      "cell_type": "markdown",
      "source": [
        "Using super() to Call Parent Methods\n",
        "\n",
        "The super() function allows a child class to call a method from the parent class."
      ],
      "metadata": {
        "id": "-hoZs3KjpzUd"
      }
    },
    {
      "cell_type": "code",
      "source": [
        "class Parent:\n",
        "    def show(self):\n",
        "        return \"This is the parent class\"\n",
        "\n",
        "class Child(Parent):\n",
        "    def show(self):\n",
        "        parent_message = super().show()  # Calling the parent method\n",
        "        return f\"{parent_message}, but modified in child class\"\n",
        "\n",
        "child = Child()\n",
        "print(child.show())  # Output: This is the parent class, but modified in child class\n",
        "\n",
        "#super() helps access parent class methods even when overridden in the child class."
      ],
      "metadata": {
        "id": "X8hbV7Ehp7W0"
      },
      "execution_count": null,
      "outputs": []
    },
    {
      "cell_type": "markdown",
      "source": [
        "Key Benefits of Inheritance\n",
        "- Reduces code duplication – Write common functionality once in the parent class.\n",
        "- Promotes reusability – New classes can use and extend existing functionality.\n",
        "- Improves maintainability – Changes in the parent class reflect in child classes."
      ],
      "metadata": {
        "id": "neVreiMsqNxL"
      }
    },
    {
      "cell_type": "markdown",
      "source": [
        "**7.What is polymorphism in OOP?**\n",
        "  \n",
        "Polymorphism in OOP (Python)\n",
        "Polymorphism means \"many forms\" and allows objects of different classes to be treated as objects of a common superclass. It enables different classes to define the same method name with different implementations.\n",
        "\n",
        "Key Benefits of Polymorphism\n",
        "- Code flexibility – Write generic code that works with multiple types.\n",
        "- Enhances code reusability – No need to rewrite code for each class.\n",
        "- Simplifies maintenance – Less duplication, easier modifications.\n",
        "\n",
        "Types of Polymorphism in Python\n",
        "1.Method Overriding (Runtime Polymorphism)\n",
        "2.Method Overloading (Compile-Time Polymorphism - Not Native in Python)\n",
        "3.Operator Overloading\n",
        "4.Polymorphism with Functions and Classes\n",
        "\n",
        "1. Method Overriding (Runtime Polymorphism)\n",
        "A child class provides a specific implementation of a method that already exists in its parent class."
      ],
      "metadata": {
        "id": "aq0LbJNvqh1v"
      }
    },
    {
      "cell_type": "code",
      "source": [
        "#Example: Method Overriding\n",
        "\n",
        "class Animal:\n",
        "    def speak(self):\n",
        "        return \"Animal makes a sound\"\n",
        "\n",
        "class Dog(Animal):\n",
        "    def speak(self):  # Overriding speak() method\n",
        "        return \"Woof!\"\n",
        "\n",
        "class Cat(Animal):\n",
        "    def speak(self):  # Overriding speak() method\n",
        "        return \"Meow!\"\n",
        "\n",
        "# Polymorphism in action\n",
        "animals = [Dog(), Cat()]\n",
        "\n",
        "for animal in animals:\n",
        "    print(animal.speak())  # Calls the overridden method\n",
        "\n",
        "# Same method name (speak()), different behavior in each subclass."
      ],
      "metadata": {
        "colab": {
          "base_uri": "https://localhost:8080/"
        },
        "id": "xQG7Mh0qrN6J",
        "outputId": "89aa68d5-e276-440d-8c1f-91835b85b623"
      },
      "execution_count": null,
      "outputs": [
        {
          "output_type": "stream",
          "name": "stdout",
          "text": [
            "Woof!\n",
            "Meow!\n"
          ]
        }
      ]
    },
    {
      "cell_type": "markdown",
      "source": [
        "2. Method Overloading (Not Native in Python)\n",
        "In some languages (like Java and C++), method overloading allows multiple methods with the same name but different arguments. Python does not support method overloading directly, but we can achieve a similar effect using default arguments or *args."
      ],
      "metadata": {
        "id": "j-g7PfCgrjhL"
      }
    },
    {
      "cell_type": "code",
      "source": [
        "#Example: Simulating Method Overloading\n",
        "\n",
        "class MathOperations:\n",
        "    def add(self, a, b, c=0):  # Default argument for optional parameter\n",
        "        return a + b + c\n",
        "\n",
        "math = MathOperations()\n",
        "print(math.add(2, 3))      # Output: 5\n",
        "print(math.add(2, 3, 4))   # Output: 9\n",
        "\n",
        "\n",
        "#Same method (add()) handles different numbers of arguments."
      ],
      "metadata": {
        "id": "tnLFtmBisHWL"
      },
      "execution_count": null,
      "outputs": []
    },
    {
      "cell_type": "markdown",
      "source": [
        "3. Operator Overloading\n",
        "Python allows operators like +, -, *, == to be overloaded using dunder (magic) methods."
      ],
      "metadata": {
        "id": "nigW1wdOsYjH"
      }
    },
    {
      "cell_type": "code",
      "source": [
        "#Example: Overloading + Operator\n",
        "class Point:\n",
        "    def __init__(self, x, y):\n",
        "        self.x = x\n",
        "        self.y = y\n",
        "\n",
        "    def __add__(self, other):\n",
        "        return Point(self.x + other.x, self.y + other.y)\n",
        "\n",
        "# Creating points\n",
        "p1 = Point(2, 3)\n",
        "p2 = Point(4, 5)\n",
        "\n",
        "# Overloaded + operator\n",
        "p3 = p1 + p2\n",
        "print(p3.x, p3.y)  # Output: 6 8\n",
        "\n",
        "#Defines custom behavior for + operator on objects of class Point."
      ],
      "metadata": {
        "id": "8FyAIw43sgxc"
      },
      "execution_count": null,
      "outputs": []
    },
    {
      "cell_type": "markdown",
      "source": [
        "4. Polymorphism with Functions and Classes\n",
        "A function can work with objects of different classes, as long as they share the same method name.\n"
      ],
      "metadata": {
        "id": "FHet5NexszfY"
      }
    },
    {
      "cell_type": "code",
      "source": [
        "#Example: Function with Polymorphism\n",
        "class Car:\n",
        "    def move(self):\n",
        "        return \"Car is moving\"\n",
        "\n",
        "class Plane:\n",
        "    def move(self):\n",
        "        return \"Plane is flying\"\n",
        "\n",
        "# Polymorphic function\n",
        "def travel(vehicle):\n",
        "    print(vehicle.move())\n",
        "\n",
        "# Passing different objects\n",
        "car = Car()\n",
        "plane = Plane()\n",
        "\n",
        "travel(car)   # Output: Car is moving\n",
        "travel(plane) # Output: Plane is flying\n",
        "\n",
        "#The function travel() works for both Car and Plane because they have the move() method."
      ],
      "metadata": {
        "id": "VF-llmZms4Y9"
      },
      "execution_count": null,
      "outputs": []
    },
    {
      "cell_type": "markdown",
      "source": [
        "Key Takeaways\n",
        "- Method Overriding – Child class redefines a parent method (speak()).\n",
        "- Method Overloading (Simulated) – Same method, different parameters (add() method).\n",
        "- Operator Overloading – Redefining behavior of +, *, == (__add__ method).\n",
        "- Polymorphism in Functions – Functions operate on different object types (move() method)."
      ],
      "metadata": {
        "id": "PQecPvyBtHet"
      }
    },
    {
      "cell_type": "markdown",
      "source": [
        "8. How is encapsulation achieved in Python?\n",
        "\n",
        "Encapsulation in Python (OOP)\n",
        "Encapsulation is the practice of bundling data (variables) and methods (functions) within a class while restricting direct access to some attributes. It helps protect data from unintended modification and promotes data hiding.\n",
        "\n",
        "How is Encapsulation Achieved in Python?\n",
        "Python achieves encapsulation using access modifiers:\n",
        "\n",
        "1.Public Attributes & Methods – Accessible from anywhere (self.name).\n",
        "2.Protected Attributes & Methods – Indicated by a single underscore (_name), used as a convention.\n",
        "3.Private Attributes & Methods – Indicated by a double underscore (__name), restricts direct access.\n",
        "\n",
        "1. Public Members (No Restriction)\n",
        "Public attributes and methods can be accessed from anywhere.\n",
        "\n",
        "\n",
        "\n",
        "\n"
      ],
      "metadata": {
        "id": "8_mSgys8tiY-"
      }
    },
    {
      "cell_type": "code",
      "source": [
        "class Car:\n",
        "    def __init__(self, brand):\n",
        "        self.brand = brand  # Public attribute\n",
        "\n",
        "    def show(self):  # Public method\n",
        "        return f\"Car brand: {self.brand}\"   #No restrictions – the brand attribute can be accessed directly\n",
        "\n",
        "car = Car(\"Toyota\")\n",
        "print(car.brand)  # ✅ Accessible\n",
        "print(car.show())  # ✅ Accessible"
      ],
      "metadata": {
        "colab": {
          "base_uri": "https://localhost:8080/"
        },
        "id": "vCo5P0cTuNAS",
        "outputId": "db1ff2de-bff7-4ef8-9fad-327782ba5bd4"
      },
      "execution_count": null,
      "outputs": [
        {
          "output_type": "stream",
          "name": "stdout",
          "text": [
            "Toyota\n",
            "Car brand: Toyota\n"
          ]
        }
      ]
    },
    {
      "cell_type": "markdown",
      "source": [
        "2. Protected Members (Single Underscore _)\n",
        "Protected members should not be accessed directly but can still be accessed if needed. It's a convention, not a strict rule.\n"
      ],
      "metadata": {
        "id": "fhNcDWyKuHUu"
      }
    },
    {
      "cell_type": "code",
      "source": [
        "class Car:\n",
        "    def __init__(self, brand):\n",
        "        self._brand = brand  # Protected attribute\n",
        "\n",
        "    def _show(self):  # Protected method\n",
        "        return f\"Car brand: {self._brand}\"\n",
        "\n",
        "car = Car(\"Honda\")\n",
        "print(car._brand)  # ⚠️ Accessible, but not recommended\n",
        "print(car._show())  # ⚠️ Accessible, but not recommended\n",
        "#Accessible but discouraged – _brand and _show() are conventionally meant to be private but are still accessible."
      ],
      "metadata": {
        "id": "V4pJyhIeuf86"
      },
      "execution_count": null,
      "outputs": []
    },
    {
      "cell_type": "markdown",
      "source": [
        "3. Private Members (Double Underscore __)\n",
        "Private members cannot be accessed directly outside the class."
      ],
      "metadata": {
        "id": "GKSynVjburRG"
      }
    },
    {
      "cell_type": "code",
      "source": [
        "class Car:\n",
        "    def __init__(self, brand):\n",
        "        self.__brand = brand  # Private attribute\n",
        "\n",
        "    def __show(self):  # Private method\n",
        "        return f\"Car brand: {self.__brand}\"\n",
        "\n",
        "car = Car(\"BMW\")\n",
        "# print(car.__brand)  # ❌ AttributeError: 'Car' object has no attribute '__brand'\n",
        "# print(car.__show())  # ❌ AttributeError: 'Car' object has no attribute '__show'\n"
      ],
      "metadata": {
        "id": "4GGtFxIvuvpg"
      },
      "execution_count": null,
      "outputs": []
    },
    {
      "cell_type": "markdown",
      "source": [
        "Direct access is restricted.\n",
        "\n",
        "However, private attributes and methods can still be accessed using name mangling.\n",
        "\n",
        "Accessing Private Members using Name Mangling"
      ],
      "metadata": {
        "id": "Avhn4Fudu1hJ"
      }
    },
    {
      "cell_type": "code",
      "source": [
        "print(car._Car__brand)  # ✅ Accessible using name mangling"
      ],
      "metadata": {
        "colab": {
          "base_uri": "https://localhost:8080/"
        },
        "id": "6soTIIy0vArf",
        "outputId": "1352e4bb-2959-4f1e-cbf9-d646692a5645"
      },
      "execution_count": null,
      "outputs": [
        {
          "output_type": "stream",
          "name": "stdout",
          "text": [
            "BMW\n"
          ]
        }
      ]
    },
    {
      "cell_type": "markdown",
      "source": [
        "4. Using Getters and Setters (Best Practice)\n",
        "Encapsulation is often combined with getter and setter methods to safely access and modify private attributes."
      ],
      "metadata": {
        "id": "OtiK0pNEvHFQ"
      }
    },
    {
      "cell_type": "code",
      "source": [
        "class Car:\n",
        "    def __init__(self, brand):\n",
        "        self.__brand = brand  # Private attribute\n",
        "\n",
        "    def get_brand(self):  # Getter method\n",
        "        return self.__brand\n",
        "\n",
        "    def set_brand(self, brand):  # Setter method\n",
        "        if brand:\n",
        "            self.__brand = brand  # Modify private attribute safely\n",
        "\n",
        "car = Car(\"Audi\")\n",
        "print(car.get_brand())  # ✅ Using getter: Output -> Audi\n",
        "\n",
        "car.set_brand(\"Mercedes\")  # ✅ Using setter\n",
        "print(car.get_brand())  # Output -> Mercedes"
      ],
      "metadata": {
        "id": "KB9_iXGqvKeo"
      },
      "execution_count": null,
      "outputs": []
    },
    {
      "cell_type": "markdown",
      "source": [
        "Encapsulation ensures controlled access to private attributes.\n",
        "\n",
        "Key Takeaways\n",
        "\n",
        " Encapsulation hides sensitive data from direct modification.\n",
        "\n",
        "Access Modifiers in Python:\n",
        "- public (self.name) – Accessible anywhere.\n",
        "- _protected (self._name) – Accessible but should be treated as private.\n",
        "- __private (self.__name) – Cannot be accessed directly.\n",
        "\n",
        "Use getters and setters to modify private attributes safely.\n"
      ],
      "metadata": {
        "id": "QreK_NCdvPJD"
      }
    },
    {
      "cell_type": "markdown",
      "source": [
        "9.What is a constructor in Python?\n",
        "\n",
        "Constructor in Python (OOP)\n",
        "A constructor is a special method in Python that is automatically called when an object of a class is created. It is used to initialize object attributes.\n",
        "\n",
        "How is a Constructor Defined in Python?\n",
        "In Python, the constructor method is defined using __init__():\n",
        "\n"
      ],
      "metadata": {
        "id": "_qRSbp50vpak"
      }
    },
    {
      "cell_type": "code",
      "source": [
        "class Car:\n",
        "    def __init__(self, brand, model):  # Constructor method\n",
        "        self.brand = brand  # Instance variable\n",
        "        self.model = model\n",
        "\n",
        "car1 = Car(\"Toyota\", \"Corolla\")  # Constructor is automatically called\n",
        "print(car1.brand, car1.model)  # Output: Toyota Corolla"
      ],
      "metadata": {
        "id": "QQeCzue6wIXr"
      },
      "execution_count": null,
      "outputs": []
    },
    {
      "cell_type": "markdown",
      "source": [
        "When Car(\"Toyota\", \"Corolla\") is created, __init__() initializes the brand and model attributes."
      ],
      "metadata": {
        "id": "IUXwpqQLwPCW"
      }
    },
    {
      "cell_type": "markdown",
      "source": [
        "\n",
        "Types of Constructors in Python\n",
        "1. Default Constructor (No Parameters)\n",
        "\n",
        "A constructor that takes only self and doesn’t accept parameters"
      ],
      "metadata": {
        "id": "0q3UR72uwTgo"
      }
    },
    {
      "cell_type": "code",
      "source": [
        "class Example:\n",
        "    def __init__(self):  # Default constructor\n",
        "        print(\"Default constructor called\")\n",
        "\n",
        "obj = Example()  # Output: Default constructor called\n",
        "#Called automatically when an object is created."
      ],
      "metadata": {
        "id": "Lcz4crxwwYgR"
      },
      "execution_count": null,
      "outputs": []
    },
    {
      "cell_type": "markdown",
      "source": [
        "2. Parameterized Constructor\n",
        "A constructor that takes parameters to initialize instance variables."
      ],
      "metadata": {
        "id": "6WdxC_uHwlQP"
      }
    },
    {
      "cell_type": "code",
      "source": [
        "class Person:\n",
        "    def __init__(self, name, age):  # Constructor with parameters\n",
        "        self.name = name\n",
        "        self.age = age\n",
        "\n",
        "p = Person(\"Alice\", 25)\n",
        "print(p.name, p.age)  # Output: Alice 25\n",
        "#Useful for initializing objects with dynamic values."
      ],
      "metadata": {
        "id": "DtVmPuCvwqOa"
      },
      "execution_count": null,
      "outputs": []
    },
    {
      "cell_type": "markdown",
      "source": [
        "3. Constructor with Default Arguments\n",
        "If no value is passed, default values are used.\n"
      ],
      "metadata": {
        "id": "3BThAb0pwyWz"
      }
    },
    {
      "cell_type": "code",
      "source": [
        "class Student:\n",
        "    def __init__(self, name=\"Unknown\", grade=\"Not Assigned\"):\n",
        "        self.name = name\n",
        "        self.grade = grade\n",
        "\n",
        "s1 = Student(\"John\", \"A\")\n",
        "s2 = Student()  # Uses default values\n",
        "\n",
        "print(s1.name, s1.grade)  # Output: John A\n",
        "print(s2.name, s2.grade)  # Output: Unknown Not Assigned\n",
        "\n",
        "#Prevents errors if no values are provided."
      ],
      "metadata": {
        "id": "F8aIci5Iw5jD"
      },
      "execution_count": null,
      "outputs": []
    },
    {
      "cell_type": "markdown",
      "source": [
        "4. Private Constructor (__new__() and __init__())\n",
        "Python allows controlling object creation using __new__() before __init__() is called."
      ],
      "metadata": {
        "id": "KiPXLjVHxDsq"
      }
    },
    {
      "cell_type": "code",
      "source": [
        "class Singleton:\n",
        "    _instance = None  # Class variable to store instance\n",
        "\n",
        "    def __new__(cls):\n",
        "        if cls._instance is None:\n",
        "            cls._instance = super().__new__(cls)  # Create a new instance\n",
        "        return cls._instance  # Return existing instance\n",
        "\n",
        "    def __init__(self):\n",
        "        print(\"Singleton constructor called\")\n",
        "\n",
        "obj1 = Singleton()\n",
        "obj2 = Singleton()\n",
        "print(obj1 is obj2)  # Output: True (Same instance)"
      ],
      "metadata": {
        "id": "n2CSiY6ExF9e"
      },
      "execution_count": null,
      "outputs": []
    },
    {
      "cell_type": "markdown",
      "source": [
        "Ensures only one object of the class is created (Singleton Pattern).\n",
        "\n",
        "Key Takeaways\n",
        "- Constructor (__init__()) initializes object attributes automatically.\n",
        "- Three types of constructors:\n",
        "\n",
        " - Default Constructor – No parameters.\n",
        " - Parameterized Constructor – Takes arguments to initialize attributes.\n",
        " - Constructor with Default Values – Uses defaults if no parameters are passed.\n",
        "- Python also supports __new__() for advanced object control (Singleton pattern).\n",
        "\n"
      ],
      "metadata": {
        "id": "A4v47svOxJsB"
      }
    },
    {
      "cell_type": "markdown",
      "source": [
        "**10.What are class and static methods in Python?**\n",
        "\n",
        "Class Methods vs. Static Methods in Python\n",
        "In Python, both class methods and static methods are used to define methods that are not bound to an instance of a class. However, they serve different purposes.\n",
        "\n",
        "1. Class Method (@classmethod)\n",
        "A class method is a method that is bound to the class, not an instance. It takes the class itself (cls) as the first parameter and can modify class variables.\n",
        "\n",
        "Key Features:\n",
        "- Uses @classmethod decorator.\n",
        "- Takes cls as the first parameter instead of self.\n",
        "- Can modify class-level attributes.\n"
      ],
      "metadata": {
        "id": "zr9JyaAkxf0e"
      }
    },
    {
      "cell_type": "code",
      "source": [
        "#Example: Class Method\n",
        "class Car:\n",
        "    wheels = 4  # Class variable (shared among all instances)\n",
        "\n",
        "    def __init__(self, brand):\n",
        "        self.brand = brand  # Instance variable\n",
        "\n",
        "    @classmethod\n",
        "    def change_wheels(cls, new_wheels):\n",
        "        cls.wheels = new_wheels  # Modify class variable\n",
        "\n",
        "# Before modifying\n",
        "print(Car.wheels)  #Output: 4\n",
        "\n",
        "Car.change_wheels(6)  #Calling class method\n",
        "print(Car.wheels)  #Output: 6\n",
        "\n",
        "#Class method modifies the class attribute wheels for all instances."
      ],
      "metadata": {
        "id": "GIWCxl5xx6KA"
      },
      "execution_count": null,
      "outputs": []
    },
    {
      "cell_type": "markdown",
      "source": [
        "2. Static Method (@staticmethod)\n",
        "\n",
        "A static method is a method that does not access or modify class or instance attributes. It behaves like a regular function inside a class but is logically related to the class.\n",
        "\n",
        "Key Features:\n",
        "- Uses @staticmethod decorator.\n",
        "- Does not take self or cls as a parameter.\n",
        "- Acts like a utility function inside a class."
      ],
      "metadata": {
        "id": "HwEsqo23yDjm"
      }
    },
    {
      "cell_type": "code",
      "source": [
        "#Example: Static Method\n",
        "class MathOperations:\n",
        "    @staticmethod\n",
        "    def add(a, b):\n",
        "        return a + b  # No access to class or instance attributes\n",
        "\n",
        "# Calling static method without creating an instance\n",
        "print(MathOperations.add(5, 3))  # Output: 8"
      ],
      "metadata": {
        "id": "L_0QU0v7yLJg"
      },
      "execution_count": null,
      "outputs": []
    },
    {
      "cell_type": "markdown",
      "source": [
        "Static method behaves like a regular function but is part of the class.\n",
        "\n"
      ],
      "metadata": {
        "id": "57UN5tamyVRj"
      }
    },
    {
      "cell_type": "code",
      "source": [
        "#Example: Both Class and Static Methods\n",
        "class Employee:\n",
        "    company = \"TechCorp\"  # Class variable\n",
        "\n",
        "    def __init__(self, name, salary):\n",
        "        self.name = name\n",
        "        self.salary = salary\n",
        "\n",
        "    @classmethod\n",
        "    def change_company(cls, new_name):\n",
        "        cls.company = new_name  # Modify class variable\n",
        "\n",
        "    @staticmethod\n",
        "    def is_workday(day):\n",
        "        return day.lower() not in [\"saturday\", \"sunday\"]  # Utility function\n",
        "\n",
        "# Class method modifies company name\n",
        "print(Employee.company)  # Output: TechCorp\n",
        "Employee.change_company(\"NewTech\")\n",
        "print(Employee.company)  # Output: NewTech\n",
        "\n",
        "# Static method checks if a day is a workday\n",
        "print(Employee.is_workday(\"Monday\"))  # Output: True\n",
        "print(Employee.is_workday(\"Sunday\"))  # Output: False\n"
      ],
      "metadata": {
        "id": "hwnAcSigyY_e"
      },
      "execution_count": null,
      "outputs": []
    },
    {
      "cell_type": "markdown",
      "source": [
        "- Class method changes the company name.\n",
        "- Static method checks if a given day is a workday.\n",
        "\n",
        "Key Takeaways\n",
        "1.Class Methods (@classmethod)\n",
        "\n",
        "- Take cls as a parameter.\n",
        "- Modify class attributes.\n",
        "- Used for operations that affect the whole class.\n",
        "\n",
        "2.Static Methods (@staticmethod)\n",
        "\n",
        "- Do not take self or cls.\n",
        "- Cannot modify class attributes.\n",
        "- Used for utility functions inside a class."
      ],
      "metadata": {
        "id": "ZivBo0T0ydtQ"
      }
    },
    {
      "cell_type": "markdown",
      "source": [
        "11.What is method overloading in Python?\n",
        "\n",
        "Method overloading in Python refers to the ability to define multiple methods with the same name but with different arguments (number or type) within a class. However, unlike some other languages like Java, Python doesn't natively support method overloading in the same way. In Python, if you define a method with the same name multiple times in a class, the last definition will override the previous ones.\n",
        "\n",
        "That being said, Python allows you to mimic method overloading behavior by using default arguments or variable-length argument lists.\n",
        "\n",
        "Ways to Achieve Method Overloading in Python:\n",
        "Using Default Arguments: You can define a method with default values for its parameters, which allows for different numbers of arguments to be passed.\n"
      ],
      "metadata": {
        "id": "QEUyyMuzAlwA"
      }
    },
    {
      "cell_type": "code",
      "source": [
        "class Calculator:\n",
        "    def add(self, a, b=0, c=0):\n",
        "        return a + b + c\n",
        "\n",
        "calc = Calculator()\n",
        "print(calc.add(5))      # Output: 5\n",
        "print(calc.add(5, 3))   # Output: 8\n",
        "print(calc.add(5, 3, 2)) # Output: 10"
      ],
      "metadata": {
        "id": "teOxG09E6OSz"
      },
      "execution_count": null,
      "outputs": []
    },
    {
      "cell_type": "markdown",
      "source": [
        "2.Using *args (Variable Length Arguments): By using *args, you can pass a variable number of arguments to the method and then handle them dynamically."
      ],
      "metadata": {
        "id": "GjZ5gsf56VWe"
      }
    },
    {
      "cell_type": "code",
      "source": [
        "class Calculator:\n",
        "    def add(self, *args):\n",
        "        return sum(args)\n",
        "\n",
        "calc = Calculator()\n",
        "print(calc.add(5))        # Output: 5\n",
        "print(calc.add(5, 3))     # Output: 8\n",
        "print(calc.add(5, 3, 2))  # Output: 10\n",
        "print(calc.add(1, 2, 3, 4, 5))  # Output: 15"
      ],
      "metadata": {
        "id": "tPAG5qUX6X7H"
      },
      "execution_count": null,
      "outputs": []
    },
    {
      "cell_type": "markdown",
      "source": [
        "Using @staticmethod or @classmethod: If you need to define multiple methods with different parameters, sometimes it's a good idea to use static methods or class methods to handle them differently."
      ],
      "metadata": {
        "id": "MMJHEJvQ6cui"
      }
    },
    {
      "cell_type": "code",
      "source": [
        "class Calculator:\n",
        "    @staticmethod\n",
        "    def add(a, b):\n",
        "        return a + b\n",
        "\n",
        "    @staticmethod\n",
        "    def add(a, b, c):\n",
        "        return a + b + c\n",
        "\n",
        "calc = Calculator()\n",
        "print(calc.add(5, 3))   # Output: 8\n",
        "print(calc.add(5, 3, 2)) # Output: 10"
      ],
      "metadata": {
        "id": "Y0jcUcKp6eQu"
      },
      "execution_count": null,
      "outputs": []
    },
    {
      "cell_type": "markdown",
      "source": [
        "In this case, though, the latter method would override the former, so it's not real overloading.\n",
        "\n",
        "Conclusion:\n",
        "Python doesn't support traditional method overloading directly, but using techniques like default parameters, *args, or even customizing behavior based on the input, you can effectively achieve similar results."
      ],
      "metadata": {
        "id": "M9gmrGuE6jsj"
      }
    },
    {
      "cell_type": "markdown",
      "source": [
        "**12.What is method overriding in OOP?**\n",
        "\n",
        "Method overriding in Object-Oriented Programming (OOP) is a feature that allows a subclass to provide a specific implementation of a method that is already defined in its superclass. The method in the subclass has the same name, same parameters (or signature), and same return type as the method in the superclass.\n",
        "\n",
        "When a method is overridden, the version of the method in the subclass is called instead of the one in the superclass when invoked on an instance of the subclass.\n",
        "\n",
        "Key Points about Method Overriding:\n",
        "- 1.Inheritance: Method overriding can only happen when there is an inheritance relationship between classes (i.e., subclass inherits from superclass).\n",
        "- 2.Same Method Signature: The method in the subclass must have the same name, number of parameters, and parameter types as the one in the superclass.\n",
        "- 3.Runtime Polymorphism: Method overriding supports runtime polymorphism, where the method that gets executed is determined at runtime based on the object type.\n",
        "\n",
        "Example of Method Overriding in Python:\n"
      ],
      "metadata": {
        "id": "ngdBDQ2AAzHo"
      }
    },
    {
      "cell_type": "code",
      "source": [
        "class Animal:\n",
        "    def speak(self):\n",
        "        print(\"Animal makes a sound\")\n",
        "\n",
        "class Dog(Animal):\n",
        "    def speak(self):  # Method overriding\n",
        "        print(\"Dog barks\")\n",
        "\n",
        "class Cat(Animal):\n",
        "    def speak(self):  # Method overriding\n",
        "        print(\"Cat meows\")\n",
        "\n",
        "# Creating objects of Dog and Cat\n",
        "animal = Animal()\n",
        "dog = Dog()\n",
        "cat = Cat()\n",
        "\n",
        "# Calling the speak method on different objects\n",
        "animal.speak()  # Output: Animal makes a sound\n",
        "dog.speak()     # Output: Dog barks\n",
        "cat.speak()     # Output: Cat meows"
      ],
      "metadata": {
        "id": "BOWN8f-_7Nqc"
      },
      "execution_count": null,
      "outputs": []
    },
    {
      "cell_type": "markdown",
      "source": [
        "Explanation:\n",
        "- The Animal class defines a speak method.\n",
        "- Both the Dog and Cat classes inherit from Animal and override the speak method to provide their own specific behavior.\n",
        "- When we call the speak method on instances of Dog and Cat, the overridden versions in those classes are executed instead of the one in Animal.\n",
        "\n",
        "\n",
        "Benefits of Method Overriding:\n",
        "- 1.Customized Behavior: It allows a subclass to provide its own implementation of a method while keeping the same method signature.\n",
        "- 2.Polymorphism: It is a key concept for polymorphism, where you can treat objects of different classes in the same way but still get different behavior based on the object type.\n",
        "\n",
        "\n",
        "When is Method Overriding Useful?\n",
        "\n",
        "- Behavior Modification: If you want to change or extend the behavior of a superclass method in a subclass.\n",
        "- Specialized Implementation: When a subclass requires a more specialized implementation for an inherited method.\n",
        "\n",
        "In summary, method overriding allows subclasses to modify or extend the functionality of methods that they inherit from their superclass, enabling more specific behavior while keeping a consistent interface."
      ],
      "metadata": {
        "id": "poYGZc467Sjw"
      }
    },
    {
      "cell_type": "markdown",
      "source": [
        "**13.What is a property decorator in Python?**\n",
        "\n",
        "A property decorator in Python is used to define a class property in an elegant and Pythonic way. It allows you to control access to an attribute by defining getter, setter, and deleter methods while keeping the syntax clean and readable.\n",
        "\n",
        "Usage of @property Decorator\n",
        "Python provides the @property decorator to define a method that acts as a getter for an attribute. You can also use @<property_name>.setter and @<property_name>.deleter to define corresponding setter and deleter methods.\n",
        "\n",
        "Example: Using @property Decorator"
      ],
      "metadata": {
        "id": "7VrjyXVEA_GM"
      }
    },
    {
      "cell_type": "code",
      "source": [
        "class Person:\n",
        "    def __init__(self, name):\n",
        "        self._name = name  # Conventionally using a single underscore for internal variables\n",
        "\n",
        "    @property\n",
        "    def name(self):\n",
        "        \"\"\"Getter method for name\"\"\"\n",
        "        return self._name\n",
        "\n",
        "    @name.setter\n",
        "    def name(self, value):\n",
        "        \"\"\"Setter method for name\"\"\"\n",
        "        if not isinstance(value, str):\n",
        "            raise ValueError(\"Name must be a string\")\n",
        "        self._name = value\n",
        "\n",
        "    @name.deleter\n",
        "    def name(self):\n",
        "        \"\"\"Deleter method for name\"\"\"\n",
        "        print(\"Deleting name...\")\n",
        "        del self._name\n",
        "\n",
        "# Usage\n",
        "person = Person(\"Alice\")\n",
        "print(person.name)  # Calls the getter\n",
        "\n",
        "person.name = \"Bob\"  # Calls the setter\n",
        "print(person.name)\n",
        "\n",
        "del person.name  # Calls the deleter"
      ],
      "metadata": {
        "id": "cHZ3qVj98dkl"
      },
      "execution_count": null,
      "outputs": []
    },
    {
      "cell_type": "markdown",
      "source": [
        "Advantages of Using @property Decorator\n",
        "\n",
        "- 1.Encapsulation: It allows controlled access to attributes while hiding implementation details.\n",
        "- 2.Readability: Enables attribute-like access while internally using methods.\n",
        "- 3.Validation: Allows validation before setting a value.\n",
        "- 4.Computed Properties: You can define computed properties dynamically based on other attributes."
      ],
      "metadata": {
        "id": "RCiI8OO58iNi"
      }
    },
    {
      "cell_type": "markdown",
      "source": [
        "**14.Why is polymorphism important in OOP?**\n",
        "\n",
        "Polymorphism is a key concept in Object-Oriented Programming (OOP) that allows objects of different classes to be treated as objects of a common superclass. It enables a single interface to be used for different data types, improving code flexibility, maintainability, and reusability.\n",
        "\n",
        "Importance of Polymorphism:\n",
        "- 1.Code Reusability:\n",
        "\n",
        " - A single function or method can work with objects of multiple types.\n",
        " - Example: A method draw() can be used for different shapes like circles, rectangles, or squares.\n",
        "\n",
        "- 2.Scalability & Extensibility:\n",
        "\n",
        " - New classes can be added without modifying existing code.\n",
        "  - Example: Adding a new Triangle class without changing the draw() function.\n",
        "\n",
        "- 3.Improved Readability & Maintainability:\n",
        "\n",
        " - Reduces duplicate code and makes programs easier to understand.\n",
        "\n",
        "- 4.Method Overriding (Runtime Polymorphism):\n",
        "\n",
        "  - Allows a subclass to provide a specific implementation of a method that is already defined in its parent class.\n",
        "\n",
        "- 5.Method Overloading (Compile-Time Polymorphism - Limited in Python):\n",
        "\n",
        "  - In some languages (like Java), multiple methods with the same name but different parameters can exist.\n",
        "\n",
        "Example of Polymorphism in Python\n",
        "Method Overriding (Runtime Polymorphism)\n",
        "\n"
      ],
      "metadata": {
        "id": "E2YvkRWTBCBS"
      }
    },
    {
      "cell_type": "code",
      "source": [
        "class Animal:\n",
        "    def speak(self):\n",
        "        return \"Some sound\"\n",
        "\n",
        "class Dog(Animal):\n",
        "    def speak(self):\n",
        "        return \"Bark\"\n",
        "\n",
        "class Cat(Animal):\n",
        "    def speak(self):\n",
        "        return \"Meow\"\n",
        "\n",
        "# Using polymorphism\n",
        "animals = [Dog(), Cat(), Animal()]\n",
        "\n",
        "for animal in animals:\n",
        "    print(animal.speak())  # Calls the overridden method dynamically"
      ],
      "metadata": {
        "colab": {
          "base_uri": "https://localhost:8080/"
        },
        "id": "Vu1JazMEBFmA",
        "outputId": "9cde28a0-9507-4a90-887d-c2e1b720be9c"
      },
      "execution_count": null,
      "outputs": [
        {
          "output_type": "stream",
          "name": "stdout",
          "text": [
            "Bark\n",
            "Meow\n",
            "Some sound\n"
          ]
        }
      ]
    },
    {
      "cell_type": "markdown",
      "source": [
        "Conclusion\n",
        "\n",
        "Polymorphism enhances flexibility, reusability, and scalability in OOP, making it easier to develop and maintain software. It allows different classes to share the same interface, reducing code duplication and improving abstraction."
      ],
      "metadata": {
        "id": "uQgU80qlBMgY"
      }
    },
    {
      "cell_type": "markdown",
      "source": [
        "**15.What is an abstract class in Python?**\n",
        "\n",
        "An abstract class in Python is a class that cannot be instantiated and serves as a blueprint for other classes. It is used to define methods that must be implemented in derived (child) classes. Abstract classes help enforce a common interface across multiple related classes.\n",
        "\n",
        "Key Features of Abstract Classes\n",
        "- 1.Cannot create objects (instances) directly.\n",
        "- 2.May have abstract methods (methods without implementation) that must be defined in subclasses.\n",
        "-3.Can have concrete (normal) methods that provide a common implementation.\n",
        "- 4.Defined using the ABC (Abstract Base Class) module.\n",
        "\n",
        "To create an abstract class in Python, follow these steps:\n",
        "\n",
        "- Import ABC and abstractmethod from the abc module.\n",
        "- Inherit from ABC.\n",
        "- Use @abstractmethod to define methods that must be implemented in subclasses.\n",
        "\n",
        "Example of Abstract Class"
      ],
      "metadata": {
        "id": "qOMKkQwwBJ9x"
      }
    },
    {
      "cell_type": "code",
      "source": [
        "from abc import ABC, abstractmethod\n",
        "\n",
        "# Abstract class\n",
        "class Animal(ABC):\n",
        "    @abstractmethod\n",
        "    def make_sound(self):\n",
        "        \"\"\"Abstract method (must be implemented in subclasses)\"\"\"\n",
        "        pass\n",
        "\n",
        "# Concrete subclass\n",
        "class Dog(Animal):\n",
        "    def make_sound(self):\n",
        "        return \"Bark\"\n",
        "\n",
        "# Concrete subclass\n",
        "class Cat(Animal):\n",
        "    def make_sound(self):\n",
        "        return \"Meow\"\n",
        "\n",
        "# Trying to instantiate an abstract class will result in an error\n",
        "# animal = Animal()  # TypeError: Can't instantiate abstract class\n",
        "\n",
        "# Creating instances of subclasses\n",
        "dog = Dog()\n",
        "cat = Cat()\n",
        "\n",
        "print(dog.make_sound())  # Output: Bark\n",
        "print(cat.make_sound())  # Output: Meow"
      ],
      "metadata": {
        "id": "odW5nQiCB2ak"
      },
      "execution_count": null,
      "outputs": []
    },
    {
      "cell_type": "markdown",
      "source": [
        "Use of Abstract Classes:\n",
        "\n",
        "- 1.Enforce Method Implementation – Ensures that all subclasses implement required methods.\n",
        "- 2.Encapsulation & Code Reusability – Defines a common structure that multiple subclasses can follow.\n",
        "- 3.Better Code Organization – Helps in designing clear and structured OOP programs."
      ],
      "metadata": {
        "id": "GtkUeJdFB8Jv"
      }
    },
    {
      "cell_type": "markdown",
      "source": [
        "**16.What are the advantages of OOP?**\n",
        "\n",
        "Advantages of Object-Oriented Programming (OOP)\n",
        "Object-Oriented Programming (OOP) is a programming paradigm that uses objects and classes to structure code efficiently. It provides several advantages, making software development more modular, reusable, scalable, and maintainable.\n",
        "\n",
        "1. Code Reusability (Inheritance)\n",
        "OOP allows new classes to inherit properties and behaviors from existing classes.\n",
        "This reduces code duplication and improves efficiency.\n",
        "Example: A Car class can inherit attributes from a Vehicle class instead of redefining them.\n",
        "\n",
        "2. Modularity & Organization\n",
        "- OOP divides a program into multiple objects (self-contained units), making code more organized.\n",
        "- Each object has its own attributes (data) and behaviors (methods), leading to better structure.\n",
        "- Example: In a banking system, Customer, Account, and Transaction can be separate classes.\n",
        "\n",
        "3. Encapsulation (Data Hiding & Security)\n",
        "- Encapsulation allows hiding internal details of an object and only exposing necessary functionalities.\n",
        "- Prevents direct modification of sensitive data, ensuring data security."
      ],
      "metadata": {
        "id": "-DaJ4fD2BKcm"
      }
    },
    {
      "cell_type": "code",
      "source": [
        "#Example:\n",
        "class BankAccount:\n",
        "    def __init__(self, balance):\n",
        "        self.__balance = balance  # Private variable\n",
        "\n",
        "    def deposit(self, amount):\n",
        "        self.__balance += amount\n",
        "\n",
        "    def get_balance(self):\n",
        "        return self.__balance  # Accessed through a method\n",
        "\n",
        "#Here, __balance is hidden and can only be modified using methods."
      ],
      "metadata": {
        "id": "vADg3GkADHWY"
      },
      "execution_count": null,
      "outputs": []
    },
    {
      "cell_type": "markdown",
      "source": [
        "4. Polymorphism (Flexibility & Extensibility)\n",
        "- OOP allows objects of different classes to be treated as objects of a common superclass.\n",
        "- Supports method overriding and method overloading, making code more flexible.\n",
        "- Example: A draw() method can be used for different shapes like Circle, Rectangle, or Triangle.\n",
        "\n",
        "5. Scalability & Maintainability\n",
        "- OOP makes it easy to scale and maintain applications.\n",
        "- Since code is modular, developers can update specific parts without affecting the entire system.\n",
        "- Example: In a shopping app, adding a new payment method (PayPal) does not affect other functionalities.\n",
        "\n",
        "6. Abstraction (Hiding Complexity)\n",
        "- OOP allows hiding complex logic and exposing only the essential features to the user.\n",
        "- Example: A Car class has methods like start_engine(), but the user does not need to know how the engine works internally.\n",
        "\n",
        "7. Real-World Representation\n",
        "- OOP models real-world entities naturally.\n",
        "- Example: A Person class with attributes like name and age and behaviors like walk() and talk().\n",
        "\n",
        "Conclusion\n",
        "\n",
        "OOP enhances code reusability, security, flexibility, and organization, making it the preferred approach for large-scale software development."
      ],
      "metadata": {
        "id": "JAI95GMrDXDe"
      }
    },
    {
      "cell_type": "markdown",
      "source": [
        "** 17. What is the difference between a class variable and an instance variable?\n",
        " **\n",
        "\n",
        "A class variable is shared among all instances of a class, meaning that changing it in one instance affects all others. It is defined at the class level and is the same for every object. On the other hand, an instance variable is specific to each object; it is defined within the constructor (__init__) and can have different values for different instances."
      ],
      "metadata": {
        "id": "93t5Y0ihBLJJ"
      }
    },
    {
      "cell_type": "code",
      "source": [
        "#For Example:\n",
        "class Car:\n",
        "    wheels = 4  # Class variable (shared by all instances)\n",
        "\n",
        "    def __init__(self, color):\n",
        "        self.color = color  # Instance variable (unique for each instance)\n",
        "\n",
        "# Creating instances\n",
        "car1 = Car(\"Red\")\n",
        "car2 = Car(\"Blue\")\n",
        "\n",
        "print(car1.wheels, car1.color)  # Output: 4 Red\n",
        "print(car2.wheels, car2.color)  # Output: 4 Blue\n",
        "\n",
        "# Modifying class variable\n",
        "Car.wheels = 6\n",
        "print(car1.wheels, car2.wheels)  # Output: 6 6 (changed for all)\n",
        "\n",
        "# Modifying instance variable\n",
        "car1.color = \"Green\"\n",
        "print(car1.color, car2.color)  # Output: Green Blue (only car1 is affected)"
      ],
      "metadata": {
        "id": "uAU1S-Im9uwM"
      },
      "execution_count": null,
      "outputs": []
    },
    {
      "cell_type": "markdown",
      "source": [
        "In summary, class variables are shared across all instances, whereas instance variables are unique to each object."
      ],
      "metadata": {
        "id": "VNhIgZpV93-e"
      }
    },
    {
      "cell_type": "markdown",
      "source": [
        " **18.What is multiple inheritance in Python?**\n",
        "\n",
        "Multiple Inheritance in Python\n",
        "Multiple inheritance is a feature in Python where a class can inherit attributes and methods from more than one parent class. This allows a child class to have characteristics from multiple base classes, promoting code reuse and flexibility.\n",
        "\n",
        "Example of Multiple Inheritance\n"
      ],
      "metadata": {
        "id": "JrZUMuMmBLvT"
      }
    },
    {
      "cell_type": "code",
      "source": [
        "class Parent1:\n",
        "    def func1(self):\n",
        "        print(\"This is Parent1\")\n",
        "\n",
        "class Parent2:\n",
        "    def func2(self):\n",
        "        print(\"This is Parent2\")\n",
        "\n",
        "# Child class inheriting from both Parent1 and Parent2\n",
        "class Child(Parent1, Parent2):\n",
        "    def func3(self):\n",
        "        print(\"This is Child class\")\n",
        "\n",
        "# Creating an object of Child class\n",
        "obj = Child()\n",
        "obj.func1()  # Inherited from Parent1\n",
        "obj.func2()  # Inherited from Parent2\n",
        "obj.func3()  # Defined in Child class"
      ],
      "metadata": {
        "id": "RC440DMn-Qvq"
      },
      "execution_count": null,
      "outputs": []
    },
    {
      "cell_type": "markdown",
      "source": [
        "Key Features of Multiple Inheritance\n",
        "- 1.Reusability – Allows the reuse of code from multiple parent classes.\n",
        "- 2.Flexibility – Enables a class to inherit functionalities from multiple sources.\n",
        "- 3.Method Resolution Order (MRO) – Determines the order in which methods are inherited (follows C3 Linearization)\n",
        "\n",
        "Potential Issues\n",
        "- Ambiguity – If multiple parents have a method with the same name, the method resolution order (MRO) decides which one is called.\n",
        "- Complexity – Managing dependencies across multiple base classes can be tricky."
      ],
      "metadata": {
        "id": "7W2ChnHZ-Vav"
      }
    },
    {
      "cell_type": "markdown",
      "source": [
        "**19.Explain the purpose of ‘’__str__’ and ‘__repr__’ ‘ methods in Python.**\n",
        "\n",
        "Purpose of __str__ and __repr__ Methods in Python\n",
        "Both __str__ and __repr__ are special methods in Python used to return string representations of an object. However, they serve different purposes.\n",
        "\n",
        "1. __str__ Method (User-Friendly Representation)\n",
        "- The __str__ method returns a human-readable string representation of an object.\n",
        "- It is intended for end-users and should be easy to understand.\n",
        "-- It is called when print(object) or str(object) is used."
      ],
      "metadata": {
        "id": "D0Z0BkXmBvnF"
      }
    },
    {
      "cell_type": "code",
      "source": [
        "#Example of __str__\n",
        "class Person:\n",
        "    def __init__(self, name, age):\n",
        "        self.name = name\n",
        "        self.age = age\n",
        "\n",
        "    def __str__(self):\n",
        "        return f\"Person(Name: {self.name}, Age: {self.age})\"\n",
        "\n",
        "p = Person(\"Alice\", 30)\n",
        "print(p)  # Calls __str__()"
      ],
      "metadata": {
        "colab": {
          "base_uri": "https://localhost:8080/"
        },
        "id": "cerwkBml_Pkw",
        "outputId": "cda2f042-00de-4775-9f29-e3f4470ee583"
      },
      "execution_count": null,
      "outputs": [
        {
          "output_type": "stream",
          "name": "stdout",
          "text": [
            "Person(Name: Alice, Age: 30)\n"
          ]
        }
      ]
    },
    {
      "cell_type": "markdown",
      "source": [
        "2. __repr__ Method (Developer-Friendly Representation)\n",
        "- The __repr__ method returns a detailed and unambiguous string representation.\n",
        "- It is meant for debugging and should ideally return a string that can recreate the object.\n",
        "- It is called when repr(object) is used or when the object is printed in an interactive shell.\n"
      ],
      "metadata": {
        "id": "dPvwLhK7_bf2"
      }
    },
    {
      "cell_type": "code",
      "source": [
        "#example of __repr__\n",
        "class Person:\n",
        "    def __init__(self, name, age):\n",
        "        self.name = name\n",
        "        self.age = age\n",
        "\n",
        "    def __repr__(self):\n",
        "        return f\"Person('{self.name}', {self.age})\"\n",
        "\n",
        "p = Person(\"Alice\", 30)\n",
        "print(repr(p))  # Calls __repr__()"
      ],
      "metadata": {
        "colab": {
          "base_uri": "https://localhost:8080/"
        },
        "id": "cGX8K40c_kOj",
        "outputId": "0e327800-71fc-45d2-85e6-25e2eb65074c"
      },
      "execution_count": null,
      "outputs": [
        {
          "output_type": "stream",
          "name": "stdout",
          "text": [
            "Person('Alice', 30)\n"
          ]
        }
      ]
    },
    {
      "cell_type": "markdown",
      "source": [
        "If both methods are defined, print(obj) will use __str__, but if __str__ is not available, it will fall back to __repr__."
      ],
      "metadata": {
        "id": "TBkAP72A_ydo"
      }
    },
    {
      "cell_type": "markdown",
      "source": [
        "**20.What is the significance of the ‘super()’ function in Python?**\n",
        "\n",
        "Significance of the super() Function in Python\n",
        "The super() function in Python is used to call methods from a parent (superclass) inside a child class. It allows you to reuse and extend functionality without explicitly naming the parent class. This is especially useful in inheritance and method overriding\n",
        "\n",
        "Key Benefits of super()\n",
        "\n",
        "- 1.Avoids Hardcoding Parent Class Name – Makes code more maintainable.\n",
        "-- 2.Supports Multiple Inheritance – Ensures correct method resolution order (MRO).\n",
        "- 3.Allows Method Overriding – Calls the parent method and extends it in the child class.\n",
        "- 4.Ensures Proper Initialization – Calls the parent class constructor in child classes.\n",
        "\n",
        "Example: Using super() to Call Parent Class Methods"
      ],
      "metadata": {
        "id": "k0wAPRdnByMF"
      }
    },
    {
      "cell_type": "code",
      "source": [
        "class Parent:\n",
        "    def show(self):\n",
        "        print(\"This is the Parent class\")\n",
        "\n",
        "class Child(Parent):\n",
        "    def show(self):\n",
        "        super().show()  # Calling Parent's show() method\n",
        "        print(\"This is the Child class\")\n",
        "\n",
        "# Creating an object of Child\n",
        "obj = Child()\n",
        "obj.show()"
      ],
      "metadata": {
        "colab": {
          "base_uri": "https://localhost:8080/"
        },
        "id": "T6eKpC4bFRRM",
        "outputId": "c10dd0ba-feac-4296-9c7a-ce24f1293e4d"
      },
      "execution_count": null,
      "outputs": [
        {
          "output_type": "stream",
          "name": "stdout",
          "text": [
            "This is the Parent class\n",
            "This is the Child class\n"
          ]
        }
      ]
    },
    {
      "cell_type": "markdown",
      "source": [
        "Example: Using super() to Call Parent Class Constructor"
      ],
      "metadata": {
        "id": "UN-Q9IxoFXS0"
      }
    },
    {
      "cell_type": "code",
      "source": [
        "class Animal:\n",
        "    def __init__(self, species):\n",
        "        self.species = species\n",
        "        print(f\"Animal: {self.species}\")\n",
        "\n",
        "class Dog(Animal):\n",
        "    def __init__(self, name):\n",
        "        super().__init__(\"Dog\")  # Calling Animal's constructor\n",
        "        self.name = name\n",
        "        print(f\"Dog Name: {self.name}\")\n",
        "\n",
        "dog = Dog(\"Buddy\")"
      ],
      "metadata": {
        "colab": {
          "base_uri": "https://localhost:8080/"
        },
        "id": "EDhxdewLFWo1",
        "outputId": "3e550770-01c2-4fa2-967f-d8b7b18d0164"
      },
      "execution_count": null,
      "outputs": [
        {
          "output_type": "stream",
          "name": "stdout",
          "text": [
            "Animal: Dog\n",
            "Dog Name: Buddy\n"
          ]
        }
      ]
    },
    {
      "cell_type": "markdown",
      "source": [
        "super() in Multiple Inheritance\n",
        "super() follows the Method Resolution Order (MRO) to determine which method to call."
      ],
      "metadata": {
        "id": "Xmp5Pfd3Fr-_"
      }
    },
    {
      "cell_type": "code",
      "source": [
        "class A:\n",
        "    def show(self):\n",
        "        print(\"Class A\")\n",
        "\n",
        "class B(A):\n",
        "    def show(self):\n",
        "        super().show()  # Calls A's method\n",
        "        print(\"Class B\")\n",
        "\n",
        "class C(B):\n",
        "    def show(self):\n",
        "        super().show()  # Calls B's method\n",
        "        print(\"Class C\")\n",
        "\n",
        "obj = C()\n",
        "obj.show()"
      ],
      "metadata": {
        "colab": {
          "base_uri": "https://localhost:8080/"
        },
        "id": "dciN928MFtpc",
        "outputId": "3063fbf1-b1b3-4767-99fd-bbe39760fe52"
      },
      "execution_count": null,
      "outputs": [
        {
          "output_type": "stream",
          "name": "stdout",
          "text": [
            "Class A\n",
            "Class B\n",
            "Class C\n"
          ]
        }
      ]
    },
    {
      "cell_type": "markdown",
      "source": [
        "Conclusion\n",
        "\n",
        "The super() function is crucial in OOP as it ensures proper inheritance, method reuse, and maintainability. It helps call parent class methods dynamically, avoiding direct class references.\n"
      ],
      "metadata": {
        "id": "yVMdImc8Fz-b"
      }
    },
    {
      "cell_type": "markdown",
      "source": [
        "**21.What is the significance of the __del__ method in Python?**\n",
        "\n",
        "Significance of the __del__ Method in Python\n",
        "The __del__ method in Python is a destructor method that is called automatically when an object is deleted or goes out of scope. It allows you to perform cleanup operations such as releasing resources, closing files, or disconnecting from databases before the object is destroyed.\n",
        "\n",
        "Key Points About __del__\n",
        "-1.Called when an object is deleted using del or garbage collected.\n",
        "- 2.Used for resource cleanup (e.g., closing files, releasing memory).\n",
        "- 3.Not always predictable, as Python's garbage collector decides when to delete objects.\n",
        "- 4.Can lead to issues if misused, especially with circular references."
      ],
      "metadata": {
        "id": "177vsa0RB4cD"
      }
    },
    {
      "cell_type": "code",
      "source": [
        "#Example of __del__ Method\n",
        "class FileHandler:\n",
        "    def __init__(self, filename):\n",
        "        self.file = open(filename, 'w')\n",
        "        print(f\"File {filename} opened\")\n",
        "\n",
        "    def write_data(self, data):\n",
        "        self.file.write(data)\n",
        "\n",
        "    def __del__(self):\n",
        "        print(\"Closing file...\")\n",
        "        self.file.close()  # Cleanup operation\n",
        "\n",
        "# Creating an object\n",
        "handler = FileHandler(\"sample.txt\")\n",
        "handler.write_data(\"Hello, World!\")\n",
        "\n",
        "# Deleting the object manually\n",
        "del handler"
      ],
      "metadata": {
        "colab": {
          "base_uri": "https://localhost:8080/"
        },
        "id": "xmpuAjovGgMb",
        "outputId": "5b75a3f9-55f8-4d0d-bb37-c6e82b800dde"
      },
      "execution_count": null,
      "outputs": [
        {
          "output_type": "stream",
          "name": "stdout",
          "text": [
            "File sample.txt opened\n",
            "Closing file...\n"
          ]
        }
      ]
    },
    {
      "cell_type": "markdown",
      "source": [
        "The __del__ method ensures that the file is properly closed when the object is deleted.\n",
        "\n",
        "When is __del__ Called?\n",
        "When an object goes out of scope or is explicitly deleted.\n",
        "When Python's garbage collector removes an object with no references\n",
        "\n",
        "Caution: Potential Issues with __del__\n",
        "\n",
        "- 1.Unpredictable Execution:\n",
        "\n",
        "The destructor is called when Python decides to free memory, which is not always immediate.\n",
        "\n",
        "- 2.Circular References Issue:\n",
        "\n",
        "If objects reference each other, Python’s garbage collector may not delete them immediately.\n",
        "Solution: Use weakref module to avoid circular references.\n",
        "\n",
        "- 3.Calling del Doesn’t Always Call __del__ Immediately:"
      ],
      "metadata": {
        "id": "fIey8K3wGwNj"
      }
    },
    {
      "cell_type": "code",
      "source": [
        "class Demo:\n",
        "    def __del__(self):\n",
        "        print(\"Object deleted\")\n",
        "\n",
        "obj = Demo()\n",
        "del obj  # __del__ might not run immediately\n",
        "print(\"End of program\")"
      ],
      "metadata": {
        "colab": {
          "base_uri": "https://localhost:8080/"
        },
        "id": "Pjd3WZA7HROM",
        "outputId": "75ee5e9c-9f94-4b00-b645-9cad0e3be628"
      },
      "execution_count": null,
      "outputs": [
        {
          "output_type": "stream",
          "name": "stdout",
          "text": [
            "Object deleted\n",
            "End of program\n"
          ]
        }
      ]
    },
    {
      "cell_type": "markdown",
      "source": [
        "Conclusion\n",
        "\n",
        "- __del__ is useful for resource cleanup (closing files, network connections, etc.).\n",
        "- Its execution is not guaranteed immediately upon calling del, as Python controls garbage collection.\n",
        "- Should be used carefully to avoid circular reference issues."
      ],
      "metadata": {
        "id": "8ONhuJ0YHYj8"
      }
    },
    {
      "cell_type": "markdown",
      "source": [
        "**22.What is the difference between @staticmethod and @classmethod in Python?**\n",
        "\n",
        "Difference Between @staticmethod and @classmethod in Python\n",
        "Both @staticmethod and @classmethod are decorators in Python that define methods that are not bound to an instance of the class. However, they have different behaviors and purposes:\n",
        "- 1. @staticmethod\n",
        " - No access to instance or class: A static method doesn't take any reference to the class (cls) or instance (self) as its first argument.\n",
        " - Independent method: It is simply a method that belongs to the class, but does not require access to any instance or class-specific data.\n",
        " - Called using the class or instance.\n",
        "\n",
        "Example of @staticmethod:\n",
        "\n"
      ],
      "metadata": {
        "id": "fjY9-l94B7YD"
      }
    },
    {
      "cell_type": "code",
      "source": [
        "class MathOperations:\n",
        "    @staticmethod\n",
        "    def add(x, y):\n",
        "        return x + y\n",
        "\n",
        "# Usage\n",
        "result = MathOperations.add(5, 3)\n",
        "print(result)  # Output: 8"
      ],
      "metadata": {
        "colab": {
          "base_uri": "https://localhost:8080/"
        },
        "id": "eWwLY4T-IXE7",
        "outputId": "9f4fa991-e678-4e2e-d466-c650b4fd7f07"
      },
      "execution_count": null,
      "outputs": [
        {
          "output_type": "stream",
          "name": "stdout",
          "text": [
            "8\n"
          ]
        }
      ]
    },
    {
      "cell_type": "markdown",
      "source": [
        "Explanation: add() is a static method, which means it can be called without creating an instance of MathOperations.\n",
        "\n",
        "2. @classmethod\n",
        "- Access to the class: A class method takes the class itself as its first argument (commonly named cls). It can modify class-level attributes and methods.\n",
        "- Used to create alternative constructors or access class-level data.\n",
        "- Called using the class or an instance.\n",
        "Use Case: Used when you need to access or modify class state, or when defining an alternative constructor.\n",
        "\n",
        "Example of @classmethod:"
      ],
      "metadata": {
        "id": "f71ZIyP7IbU1"
      }
    },
    {
      "cell_type": "code",
      "source": [
        "class Book:\n",
        "    discount = 0.1  # Class variable\n",
        "\n",
        "    def __init__(self, title, price):\n",
        "        self.title = title\n",
        "        self.price = price\n",
        "\n",
        "    @classmethod\n",
        "    def set_discount(cls, discount):\n",
        "        cls.discount = discount  # Modifying class-level attribute\n",
        "\n",
        "    def get_discounted_price(self):\n",
        "        return self.price - (self.price * self.discount)\n",
        "\n",
        "# Usage\n",
        "book = Book(\"Python Programming\", 40)\n",
        "book.set_discount(0.2)  # Using class method to modify the class-level attribute\n",
        "print(book.get_discounted_price())  # Output: 32.0"
      ],
      "metadata": {
        "id": "rAOW4y2mIqJL"
      },
      "execution_count": null,
      "outputs": []
    },
    {
      "cell_type": "markdown",
      "source": [
        "Explanation: set_discount() is a class method, and it modifies the class-level variable discount."
      ],
      "metadata": {
        "id": "tpJ6u6hGIwbZ"
      }
    },
    {
      "cell_type": "markdown",
      "source": [
        "Summary\n",
        "- @staticmethod: Useful when a method doesn't need to modify class or instance-specific data.\n",
        "- @classmethod: Useful when you need to modify or interact with class-level data, often used for alternative constructors."
      ],
      "metadata": {
        "id": "5vXj-IBUIz6r"
      }
    },
    {
      "cell_type": "markdown",
      "source": [
        "**23.How does polymorphism work in Python with inheritance?**\n",
        "\n",
        "Polymorphism in Python with Inheritance\n",
        "Polymorphism in Python allows objects of different classes to be treated as objects of a common superclass. In the context of inheritance, polymorphism means that subclasses can provide their own implementations of methods that are defined in the superclass, and Python will call the appropriate method depending on the object's actual class (not the class type that refers to the object).\n",
        "\n",
        "Key Concept:\n",
        "- Method Overriding: A subclass can override a method defined in its superclass, providing a different implementation.\n",
        "- Dynamic Dispatch: When a method is called, Python dynamically decides which version of the method to invoke based on the actual object (not the reference type).\n",
        "\n",
        "How Polymorphism Works in Inheritance:\n",
        "- 1.Superclass defines a method with a general behavior.\n",
        "- 2.Subclass can override that method to provide specific behavior.\n",
        "- 3.Polymorphism allows you to call the overridden method on an object, even if you don't know which subclass the object belongs to.\n",
        "\n",
        "Example: Polymorphism in Inheritance\n",
        "In this example, we have a superclass Animal with a method make_sound. The subclasses Dog and Cat override this method to provide specific sounds. Polymorphism allows us to call make_sound on any object of type Animal (or its subclasses), and the appropriate method will be invoked based on the actual class of the object."
      ],
      "metadata": {
        "id": "ZdWLKVMbCCsG"
      }
    },
    {
      "cell_type": "code",
      "source": [
        "class Animal:\n",
        "    def make_sound(self):\n",
        "        return \"Some sound\"\n",
        "\n",
        "class Dog(Animal):\n",
        "    def make_sound(self):\n",
        "        return \"Bark\"\n",
        "\n",
        "class Cat(Animal):\n",
        "    def make_sound(self):\n",
        "        return \"Meow\"\n",
        "\n",
        "# Creating instances of the subclasses\n",
        "animals = [Dog(), Cat(), Animal()]\n",
        "\n",
        "# Using polymorphism to call make_sound() without knowing the object's exact class\n",
        "for animal in animals:\n",
        "    print(animal.make_sound())  # Output will vary based on the actual class\n"
      ],
      "metadata": {
        "colab": {
          "base_uri": "https://localhost:8080/"
        },
        "id": "WAJghl3cK7j9",
        "outputId": "8bfef2e0-28cd-4ba0-f38b-e10e59a447d8"
      },
      "execution_count": null,
      "outputs": [
        {
          "output_type": "stream",
          "name": "stdout",
          "text": [
            "Bark\n",
            "Meow\n",
            "Some sound\n"
          ]
        }
      ]
    },
    {
      "cell_type": "markdown",
      "source": [
        "Explanation: Despite the animals list containing objects of different types (Dog, Cat, and Animal), we can call the make_sound() method on each object, and Python automatically calls the correct version based on the object's class.\n",
        "\n",
        "Benefits of Polymorphism in Inheritance\n",
        "- 1.Code Reusability: You can write generic code that works with any subclass of a common superclass.\n",
        "- 2.Flexibility: You can add new subclasses that implement the same method without changing the code that uses the superclass reference.\n",
        "- 3.Extensibility: You can extend the functionality by adding new subclasses that provide their own behavior while adhering to a common interface.\n",
        "\n",
        "Polymorphism Example in Practice\n",
        "Imagine a Shape class with a method area(), and subclasses Rectangle, Circle, and Triangle that override the method to calculate area based on their respective formulas:"
      ],
      "metadata": {
        "id": "eq3eCOgRLBV7"
      }
    },
    {
      "cell_type": "code",
      "source": [
        "class Shape:\n",
        "    def area(self):\n",
        "        pass\n",
        "\n",
        "class Rectangle(Shape):\n",
        "    def __init__(self, width, height):\n",
        "        self.width = width\n",
        "        self.height = height\n",
        "\n",
        "    def area(self):\n",
        "        return self.width * self.height\n",
        "\n",
        "class Circle(Shape):\n",
        "    def __init__(self, radius):\n",
        "        self.radius = radius\n",
        "\n",
        "    def area(self):\n",
        "        return 3.14 * self.radius * self.radius\n",
        "\n",
        "# List of shape objects\n",
        "shapes = [Rectangle(4, 5), Circle(3)]\n",
        "\n",
        "# Using polymorphism to calculate area without needing to know the exact shape type\n",
        "for shape in shapes:\n",
        "    print(f\"Area: {shape.area()}\")\n"
      ],
      "metadata": {
        "colab": {
          "base_uri": "https://localhost:8080/"
        },
        "id": "Jf0QEZ0_LTWW",
        "outputId": "bdeccf70-8bb9-40c4-8574-144d1587230b"
      },
      "execution_count": null,
      "outputs": [
        {
          "output_type": "stream",
          "name": "stdout",
          "text": [
            "Area: 20\n",
            "Area: 28.259999999999998\n"
          ]
        }
      ]
    },
    {
      "cell_type": "markdown",
      "source": [
        "Explanation: We can calculate the area of each shape in the list without needing to know whether the shape is a Rectangle or Circle. Polymorphism handles the correct method call for each object.\n",
        "\n",
        "Conclusion\n",
        "\n",
        "Polymorphism in Python with inheritance allows you to define methods in a superclass and override them in subclasses. This enables objects of different types to be treated uniformly while still providing specialized behavior. It's a powerful feature that promotes code reusability, extensibility, and flexibility."
      ],
      "metadata": {
        "id": "wNgfFUVTLWtQ"
      }
    },
    {
      "cell_type": "markdown",
      "source": [
        "**24.What is method chaining in Python OOP?**\n",
        "\n",
        "Method Chaining in Python OOP\n",
        "\n",
        "Method chaining is a technique in Object-Oriented Programming (OOP) where multiple methods are called on the same object in a single statement. This is achieved by having each method return self (the instance of the class), allowing another method to be called in sequence."
      ],
      "metadata": {
        "id": "ZAY4vqXHCE3r"
      }
    },
    {
      "cell_type": "code",
      "source": [
        "#Example of Method Chaining\n",
        "class Car:\n",
        "    def __init__(self, brand):\n",
        "        self.brand = brand\n",
        "        self.speed = 0\n",
        "\n",
        "    def accelerate(self, increase):\n",
        "        self.speed += increase\n",
        "        return self  # Returning self enables method chaining\n",
        "\n",
        "    def brake(self, decrease):\n",
        "        self.speed -= decrease\n",
        "        return self\n",
        "\n",
        "    def display_speed(self):\n",
        "        print(f\"{self.brand} is going at {self.speed} km/h\")\n",
        "        return self  # Returning self allows further chaining\n",
        "\n",
        "# Using method chaining\n",
        "car = Car(\"Tesla\")\n",
        "car.accelerate(30).brake(10).display_speed()"
      ],
      "metadata": {
        "colab": {
          "base_uri": "https://localhost:8080/"
        },
        "id": "QZYbjCaht4Ph",
        "outputId": "4a14be9c-fd8d-4f3f-c624-469cca98dc57"
      },
      "execution_count": null,
      "outputs": [
        {
          "output_type": "stream",
          "name": "stdout",
          "text": [
            "Tesla is going at 20 km/h\n"
          ]
        },
        {
          "output_type": "execute_result",
          "data": {
            "text/plain": [
              "<__main__.Car at 0x7dd91c4eebd0>"
            ]
          },
          "metadata": {},
          "execution_count": 1
        }
      ]
    },
    {
      "cell_type": "markdown",
      "source": [
        "How Method Chaining Works\n",
        "\n",
        "- 1.Each method modifies the object and returns self.\n",
        "- 2.Since self is returned, the next method can be called on the same object without needing to create intermediate variables.\n",
        "- 3.It makes the code more concise and readable.\n",
        "\n",
        "Advantages of Method Chaining\n",
        "- Improves readability: No need for multiple statements.\n",
        "- Fluent interface: Looks clean and logical.\n",
        "- Reduces temporary variables: No need to store intermediate results.\n",
        "\n",
        "Common Uses of Method Chaining\n",
        "- Builders & Fluent APIs: Libraries like pandas, BeautifulSoup, and Django QuerySets use method chaining extensively.\n",
        "- String and Data Processing: Operations on strings, lists, or custom objects."
      ],
      "metadata": {
        "id": "2PY_-gXluCJ5"
      }
    },
    {
      "cell_type": "markdown",
      "source": [
        "**25.What is the purpose of the __call__ method in Python?**\n",
        "\n",
        "Purpose of the __call__ Method in Python\n",
        "The __call__ method in Python is a special method that allows an object to be called like a function. When you define this method in a class, instances of that class can be invoked directly as if they were functions.\n",
        "\n",
        "This provides a way to make objects behave like functions, which can be useful in scenarios like callback functions, decorators, or implementing functors (objects that can be called as functions)\n",
        "\n",
        "How It Works:\n",
        "- When an object is called (using parentheses like object()), the __call__ method is invoked.\n",
        "- It can accept arguments just like a normal function."
      ],
      "metadata": {
        "id": "VGL_vt5lCN18"
      }
    },
    {
      "cell_type": "code",
      "source": [
        "#Example of Using __call__:\n",
        "class Adder:\n",
        "    def __init__(self, start_value):\n",
        "        self.value = start_value\n",
        "\n",
        "    def __call__(self, num):\n",
        "        self.value += num\n",
        "        return self.value\n",
        "\n",
        "# Creating an object\n",
        "add = Adder(5)\n",
        "\n",
        "# Using the object as a function\n",
        "print(add(3))  # Output: 8\n",
        "print(add(2))  # Output: 10\n"
      ],
      "metadata": {
        "colab": {
          "base_uri": "https://localhost:8080/"
        },
        "id": "W1FtC2tvJgEm",
        "outputId": "7f1527dc-011f-44a0-f0d1-dc0b0331800f"
      },
      "execution_count": null,
      "outputs": [
        {
          "output_type": "stream",
          "name": "stdout",
          "text": [
            "8\n",
            "10\n"
          ]
        }
      ]
    },
    {
      "cell_type": "markdown",
      "source": [
        "Explanation: The Adder class has a __call__ method. The object add behaves like a function, and every time we call add(), it adds the argument to the internal value and returns the updated value.\n",
        "\n",
        "Use Cases for __call__\n",
        "- 1.Function-like Objects: Making objects callable, which is useful when you want to create objects that can act like functions but also maintain internal state.\n",
        "\n",
        "- 2.Custom Behavior on Function Call: Implementing complex behavior when an object is called, such as performing calculations, modifying attributes, or handling external processes.\n",
        "example: Callback Function using __call__\n",
        "- 3.Decorators: Using the __call__ method in conjunction with decorators to modify the behavior of other functions.\n",
        "\n",
        "- 4.Callback Functions: Passing objects that behave like functions to other parts of the program."
      ],
      "metadata": {
        "id": "yeGXSADYJoT0"
      }
    },
    {
      "cell_type": "code",
      "source": [
        "#Example: Callback Function Using __call__\n",
        "class PrintCallback:\n",
        "    def __call__(self, message):\n",
        "        print(f\"Callback received: {message}\")\n",
        "\n",
        "# Passing the callable object as a callback\n",
        "def process_data(callback):\n",
        "    callback(\"Data processed successfully!\")\n",
        "\n",
        "callback_obj = PrintCallback()\n",
        "process_data(callback_obj)  # Output: Callback received: Data processed successfully!"
      ],
      "metadata": {
        "id": "en1IkxotJ4lx"
      },
      "execution_count": null,
      "outputs": []
    },
    {
      "cell_type": "markdown",
      "source": [
        "Conclusion\n",
        "\n",
        "The __call__ method allows Python objects to be invoked like functions, making them flexible and useful in a variety of scenarios where you need function-like behavior from an object. It's commonly used for callbacks, decorators, and custom function-like behavior."
      ],
      "metadata": {
        "id": "diqhHIHUKHj2"
      }
    },
    {
      "cell_type": "markdown",
      "source": [
        "#Practical Que-Ans\n",
        "\n"
      ],
      "metadata": {
        "id": "cAnmOyequlin"
      }
    },
    {
      "cell_type": "markdown",
      "source": [
        "1.Create a parent class Animal with a method speak() that prints a generic message. Create a child class Dog\n",
        "that overrides the speak() method to print \"Bark!\"."
      ],
      "metadata": {
        "id": "xLC3lu32usle"
      }
    },
    {
      "cell_type": "code",
      "source": [
        "class Animal:\n",
        "  def speak(self):\n",
        "    print(\"Animal speaks\")\n",
        "\n",
        "class Dog(Animal):\n",
        "  def speak(self):\n",
        "    print(\"Bark!\")\n",
        "\n",
        "#creating objects and calling the speak method\n",
        "animal = Animal()\n",
        "animal.speak() #Output: this animal makes a sound.\n",
        "\n",
        "dog = Dog()\n",
        "dog.speak() #Output: Bark!"
      ],
      "metadata": {
        "colab": {
          "base_uri": "https://localhost:8080/"
        },
        "id": "lgnXW5STwKg-",
        "outputId": "b3cddcb3-4841-441f-b747-7d31570a976f"
      },
      "execution_count": null,
      "outputs": [
        {
          "output_type": "stream",
          "name": "stdout",
          "text": [
            "Animal speaks\n",
            "Bark!\n"
          ]
        }
      ]
    },
    {
      "cell_type": "markdown",
      "source": [
        "2.Write a program to create an abstract class Shape with a method area(). Derive classes Circle and Rectangle\n",
        "from it and implement the area() method in both.\n"
      ],
      "metadata": {
        "id": "BsD9PDVOu0r5"
      }
    },
    {
      "cell_type": "code",
      "source": [
        "from abc import ABC, abstractmethod\n",
        "import math\n",
        "\n",
        "#Abstract class shape\n",
        "class Shape(ABC):\n",
        "  @abstractmethod\n",
        "  def area(self):\n",
        "    pass   #Abstract Method, musut be implemented by subclasses\n",
        "\n",
        "#Circle class inheriting from shape\n",
        "class Circle(Shape):\n",
        "  def __init__(self, radius):\n",
        "    self.radius = radius\n",
        "\n",
        "  def area(self):\n",
        "    return math.pi * self.radius ** 2   #Area of a circle formula\n",
        "\n",
        "#Rectangle class inheriting from shape\n",
        "class Reactangle(Shape):\n",
        "  def __init__(self, length, width):\n",
        "    self.length = length\n",
        "    self.width = width\n",
        "\n",
        "  def area(self):\n",
        "    return self.length * self.width  #Area of a rectangle formula\n",
        "\n",
        "#Creating Objects and calculating areas\n",
        "circle = Circle(5)\n",
        "recatangle = Reactangle(4, 6)\n",
        "\n",
        "print(f\"Area of circle: {circle.area():.2f}\" ) #Op: Area of Circle: 78.54\n",
        "print(f\"Area of rectangle: {recatangle.area()}\") #Op: Area of Rectangle:24"
      ],
      "metadata": {
        "colab": {
          "base_uri": "https://localhost:8080/"
        },
        "id": "TqS7ww0xxdBJ",
        "outputId": "1b216686-97c3-4b03-dfbd-6c30e16293fe"
      },
      "execution_count": null,
      "outputs": [
        {
          "output_type": "stream",
          "name": "stdout",
          "text": [
            "Area of circle: 78.54\n",
            "Area of rectangle: 24\n"
          ]
        }
      ]
    },
    {
      "cell_type": "markdown",
      "source": [
        "3.Implement a multi-level inheritance scenario where a class Vehicle has an attribute type. Derive a class Car\n",
        "and further derive a class ElectricCar that adds a battery attribute."
      ],
      "metadata": {
        "id": "EQb1okjFu5BL"
      }
    },
    {
      "cell_type": "code",
      "source": [
        "# Base class\n",
        "class Vehicle:\n",
        "    def __init__(self, vehicle_type):\n",
        "        self.vehicle_type = vehicle_type\n",
        "\n",
        "    def display_type(self):\n",
        "        print(f\"Vehicle Type: {self.vehicle_type}\")\n",
        "\n",
        "# Derived class from Vehicle\n",
        "class Car(Vehicle):\n",
        "    def __init__(self, brand, model, vehicle_type=\"Car\"):\n",
        "        super().__init__(vehicle_type)  # Call parent constructor\n",
        "        self.brand = brand\n",
        "        self.model = model\n",
        "\n",
        "    def display_info(self):\n",
        "        print(f\"Car Brand: {self.brand}, Model: {self.model}\")\n",
        "\n",
        "# Further derived class from Car\n",
        "class ElectricCar(Car):\n",
        "    def __init__(self, brand, model, battery_capacity):\n",
        "        super().__init__(brand, model)  # Call parent constructor\n",
        "        self.battery_capacity = battery_capacity\n",
        "\n",
        "    def display_battery(self):\n",
        "        print(f\"Battery Capacity: {self.battery_capacity} kWh\")\n",
        "\n",
        "# Creating an instance of ElectricCar\n",
        "tesla = ElectricCar(\"Tesla\", \"Model S\", 100)\n",
        "\n",
        "# Displaying details\n",
        "tesla.display_type()      # Output: Vehicle Type: Car\n",
        "tesla.display_info()      # Output: Car Brand: Tesla, Model: Model S\n",
        "tesla.display_battery()   # Output: Battery Capacity: 100 kWh"
      ],
      "metadata": {
        "colab": {
          "base_uri": "https://localhost:8080/"
        },
        "id": "fheskfUmzu5X",
        "outputId": "61d0ddd0-185f-4caa-ed30-90a8ede9079a"
      },
      "execution_count": null,
      "outputs": [
        {
          "output_type": "stream",
          "name": "stdout",
          "text": [
            "Vehicle Type: Car\n",
            "Car Brand: Tesla, Model: Model S\n",
            "Battery Capacity: 100 kWh\n"
          ]
        }
      ]
    },
    {
      "cell_type": "markdown",
      "source": [
        "4.Demonstrate polymorphism by creating a base class Bird with a method fly(). Create two derived classes\n",
        "Sparrow and Penguin that override the fly() method.\n"
      ],
      "metadata": {
        "id": "4whmea7ou5RK"
      }
    },
    {
      "cell_type": "code",
      "source": [
        "# Base class\n",
        "class Bird:\n",
        "    def fly(self):\n",
        "        print(\"Birds can generally fly.\")\n",
        "\n",
        "# Derived class Sparrow\n",
        "class Sparrow(Bird):\n",
        "    def fly(self):\n",
        "        print(\"Sparrow flies high in the sky.\")\n",
        "\n",
        "# Derived class Penguin\n",
        "class Penguin(Bird):\n",
        "    def fly(self):\n",
        "        print(\"Penguins cannot fly but they swim very well.\")\n",
        "\n",
        "# Function demonstrating polymorphism\n",
        "def bird_fly_test(bird):\n",
        "    bird.fly()  # Calls the appropriate fly() method based on the object type\n",
        "\n",
        "# Creating instances\n",
        "sparrow = Sparrow()\n",
        "penguin = Penguin()\n",
        "\n",
        "# Testing polymorphism\n",
        "bird_fly_test(sparrow)  # Output: Sparrow flies high in the sky.\n",
        "bird_fly_test(penguin)  # Output: Penguins cannot fly but they swim very well."
      ],
      "metadata": {
        "colab": {
          "base_uri": "https://localhost:8080/"
        },
        "id": "Wk_zzpbd0BmW",
        "outputId": "ec9699d5-5204-4d42-c76b-10961b8b4db2"
      },
      "execution_count": null,
      "outputs": [
        {
          "output_type": "stream",
          "name": "stdout",
          "text": [
            "Sparrow flies high in the sky.\n",
            "Penguins cannot fly but they swim very well.\n"
          ]
        }
      ]
    },
    {
      "cell_type": "markdown",
      "source": [
        "5.Write a program to demonstrate encapsulation by creating a class BankAccount with private attributes\n",
        "balance and methods to deposit, withdraw, and check balance."
      ],
      "metadata": {
        "id": "WructYRCvIOX"
      }
    },
    {
      "cell_type": "code",
      "source": [
        "class BankAccount:\n",
        "    def __init__(self, account_holder,initial_balance=0):\n",
        "        self.account_holder = account_holder\n",
        "        self.__balance = initial_balance  #Private attribute\n",
        "\n",
        "    def deposit(self,amount):\n",
        "      if amount > 0:\n",
        "        self.__balance += amount\n",
        "        print(f\"${amount} deposited. New balance: ${self.__balance}\")\n",
        "      else:\n",
        "        print(\"Invalid deposit amount. Amount must be greater than 0.\")\n",
        "\n",
        "    def withdraw(self,amount):\n",
        "      if 0 < amount <= self.__balance:\n",
        "        self.__balance -= amount\n",
        "        print(f\"${amount} withdrawn. New balance: ${self.__balance}\")\n",
        "      elif amount > self.__balance:\n",
        "        print(\"Insufficient funds.\")\n",
        "      else:\n",
        "        print(\"Invalid withdrawal amount. Amount must be greater than 0.\")\n",
        "\n",
        "    def check_balance(self):\n",
        "      print(f\"Account balance for {self.account_holder}: ${self.__balance}\")\n",
        "\n",
        "#creating an account\n",
        "account = BankAccount(\"John Doe\", 500)\n",
        "\n",
        "#performing transactions\n",
        "account.deposit(200)    #Deposited $200. New Balance: $700\n",
        "account.withdraw(100)   #Withdrew $100. Remaining Balance: $600\n",
        "account.check_balance() #Account Balance: $600\n",
        "\n",
        "#Attempting to access private attribute directly(will fail)\n",
        "#print(account.__Balance)  #attributeError: 'BankAccount' Object has no attribute '__balance'"
      ],
      "metadata": {
        "colab": {
          "base_uri": "https://localhost:8080/"
        },
        "id": "Frjq0iZZ0pEL",
        "outputId": "e67be6f7-9b23-4f7c-cb46-eacba6b775fa"
      },
      "execution_count": null,
      "outputs": [
        {
          "output_type": "stream",
          "name": "stdout",
          "text": [
            "$200 deposited. New balance: $700\n",
            "$100 withdrawn. New balance: $600\n",
            "Account balance for John Doe: $600\n"
          ]
        }
      ]
    },
    {
      "cell_type": "markdown",
      "source": [
        "6.Demonstrate runtime polymorphism using a method play() in a base class Instrument. Derive classes Guitar\n",
        "and Piano that implement their own version of play()\n",
        "\n"
      ],
      "metadata": {
        "id": "Wqz_bzsAvMos"
      }
    },
    {
      "cell_type": "code",
      "source": [
        "# Base class\n",
        "class Instrument:\n",
        "    def play(self):\n",
        "        print(\"Playing an instrument.\")\n",
        "\n",
        "# Derived class Guitar\n",
        "class Guitar(Instrument):\n",
        "    def play(self):\n",
        "        print(\"Strumming the guitar.\")\n",
        "\n",
        "# Derived class Piano\n",
        "class Piano(Instrument):\n",
        "    def play(self):\n",
        "        print(\"Playing the piano keys.\")\n",
        "\n",
        "# Function demonstrating runtime polymorphism\n",
        "def start_playing(instrument):\n",
        "    instrument.play()  # Calls the appropriate play() method based on the object\n",
        "\n",
        "# Creating instances\n",
        "guitar = Guitar()\n",
        "piano = Piano()\n",
        "\n",
        "# Testing polymorphism\n",
        "start_playing(guitar)  # Output: Strumming the guitar.\n",
        "start_playing(piano)   # Output: Playing the piano keys.\n"
      ],
      "metadata": {
        "colab": {
          "base_uri": "https://localhost:8080/"
        },
        "id": "DM7r1uWw3Tek",
        "outputId": "39ea94af-a483-4a9e-f32a-0b20d4f90938"
      },
      "execution_count": null,
      "outputs": [
        {
          "output_type": "stream",
          "name": "stdout",
          "text": [
            "Strumming the guitar.\n",
            "Playing the piano keys.\n"
          ]
        }
      ]
    },
    {
      "cell_type": "markdown",
      "source": [
        "7.Create a class MathOperations with a class method add_numbers() to add two numbers and a static\n",
        "method subtract_numbers() to subtract two numbers."
      ],
      "metadata": {
        "id": "TFJNGacCvRmD"
      }
    },
    {
      "cell_type": "code",
      "source": [
        "class MathOperations:\n",
        "    @classmethod\n",
        "    def add_numbers(cls, a, b):\n",
        "        return a + b  # Class method to add numbers\n",
        "\n",
        "    @staticmethod\n",
        "    def subtract_numbers(a, b):\n",
        "        return a - b  # Static method to subtract numbers\n",
        "\n",
        "# Using the class method\n",
        "sum_result = MathOperations.add_numbers(10, 5)\n",
        "print(f\"Sum: {sum_result}\")  # Output: Sum: 15\n",
        "\n",
        "# Using the static method\n",
        "difference = MathOperations.subtract_numbers(10, 5)\n",
        "print(f\"Difference: {difference}\")  # Output: Difference: 5"
      ],
      "metadata": {
        "colab": {
          "base_uri": "https://localhost:8080/"
        },
        "id": "rqcVdqk_3nCm",
        "outputId": "8e1a9966-eaa0-4a8b-b0d6-c50fc7b726c6"
      },
      "execution_count": null,
      "outputs": [
        {
          "output_type": "stream",
          "name": "stdout",
          "text": [
            "Sum: 15\n",
            "Difference: 5\n"
          ]
        }
      ]
    },
    {
      "cell_type": "markdown",
      "source": [
        "8.Implement a class Person with a class method to count the total number of persons created."
      ],
      "metadata": {
        "id": "wr7dNn1GvbHQ"
      }
    },
    {
      "cell_type": "code",
      "source": [
        "class Person:\n",
        "    count = 0  # Class attribute to track the number of persons\n",
        "\n",
        "    def __init__(self, name):\n",
        "        self.name = name\n",
        "        Person.count += 1  # Increment count when a new person is created\n",
        "\n",
        "    @classmethod\n",
        "    def total_persons(cls):\n",
        "        return cls.count  # Returns the total count of persons\n",
        "\n",
        "# Creating person instances\n",
        "p1 = Person(\"Alice\")\n",
        "p2 = Person(\"Bob\")\n",
        "p3 = Person(\"Charlie\")\n",
        "\n",
        "# Getting the total count of persons created\n",
        "print(f\"Total Persons Created: {Person.total_persons()}\")\n",
        "# Output: Total Persons Created: 3"
      ],
      "metadata": {
        "colab": {
          "base_uri": "https://localhost:8080/"
        },
        "id": "1ZqII25K3nbH",
        "outputId": "ab237de8-c8a0-4d46-ce32-39fcdc1e7a41"
      },
      "execution_count": null,
      "outputs": [
        {
          "output_type": "stream",
          "name": "stdout",
          "text": [
            "Total Persons Created: 3\n"
          ]
        }
      ]
    },
    {
      "cell_type": "markdown",
      "source": [
        "9.Write a class Fraction with attributes numerator and denominator. Override the str method to display the\n",
        "fraction as \"numerator/denominator\"."
      ],
      "metadata": {
        "id": "dRMhekUwvek2"
      }
    },
    {
      "cell_type": "code",
      "source": [
        "class Fraction:\n",
        "    def __init__(self, numerator, denominator):\n",
        "        if denominator == 0:\n",
        "            raise ValueError(\"Denominator cannot be zero.\")\n",
        "        self.numerator = numerator\n",
        "        self.denominator = denominator\n",
        "\n",
        "    def __str__(self):\n",
        "        return f\"{self.numerator}/{self.denominator}\"  # Overriding str method\n",
        "\n",
        "# Creating fraction objects\n",
        "f1 = Fraction(3, 4)\n",
        "f2 = Fraction(7, 2)\n",
        "\n",
        "# Displaying fractions\n",
        "print(f1)  # Output: 3/4\n",
        "print(f2)  # Output: 7/2"
      ],
      "metadata": {
        "id": "0I93dmbO3pzW"
      },
      "execution_count": null,
      "outputs": []
    },
    {
      "cell_type": "markdown",
      "source": [
        "10.Demonstrate operator overloading by creating a class Vector and overriding the add method to add two\n",
        "vectors."
      ],
      "metadata": {
        "id": "5Pck1-lSvgv3"
      }
    },
    {
      "cell_type": "code",
      "source": [
        "class Vector:\n",
        "    def __init__(self, x, y):\n",
        "        self.x = x\n",
        "        self.y = y\n",
        "\n",
        "    def __add__(self, other):\n",
        "        if not isinstance(other, Vector):\n",
        "            return NotImplemented  # Ensures compatibility with other types\n",
        "        return Vector(self.x + other.x, self.y + other.y)  # Adding corresponding components\n",
        "\n",
        "    def __str__(self):\n",
        "        return f\"({self.x}, {self.y})\"  # String representation of the vector\n",
        "\n",
        "# Creating vector objects\n",
        "v1 = Vector(3, 4)\n",
        "v2 = Vector(1, 2)\n",
        "\n",
        "# Adding two vectors using operator overloading\n",
        "result = v1 + v2  # Calls v1.__add__(v2)\n",
        "\n",
        "# Displaying result\n",
        "print(f\"Vector 1: {v1}\")  # Output: Vector 1: (3, 4)\n",
        "print(f\"Vector 2: {v2}\")  # Output: Vector 2: (1, 2)\n",
        "print(f\"Sum: {result}\")   # Output: Sum: (4, 6)"
      ],
      "metadata": {
        "colab": {
          "base_uri": "https://localhost:8080/"
        },
        "id": "aNflQ4GX3rJC",
        "outputId": "ccbb5288-eea8-4d5d-a33d-76258600a741"
      },
      "execution_count": null,
      "outputs": [
        {
          "output_type": "stream",
          "name": "stdout",
          "text": [
            "Vector 1: (3, 4)\n",
            "Vector 2: (1, 2)\n",
            "Sum: (4, 6)\n"
          ]
        }
      ]
    },
    {
      "cell_type": "markdown",
      "source": [
        "11.Create a class Person with attributes name and age. Add a method greet() that prints \"Hello, my name is\n",
        "{name} and I am {age} years old.\""
      ],
      "metadata": {
        "id": "ANxgG6iRvmrl"
      }
    },
    {
      "cell_type": "code",
      "source": [
        "class Vector:\n",
        "    def __init__(self, x, y):\n",
        "        self.x = x\n",
        "        self.y = y\n",
        "\n",
        "    def __add__(self, other):\n",
        "        if not isinstance(other, Vector):\n",
        "            return NotImplemented  # Ensures compatibility with other types\n",
        "        return Vector(self.x + other.x, self.y + other.y)  # Adding corresponding components\n",
        "\n",
        "    def __str__(self):\n",
        "        return f\"({self.x}, {self.y})\"  # String representation of the vector\n",
        "\n",
        "# Creating vector objects\n",
        "v1 = Vector(3, 4)\n",
        "v2 = Vector(1, 2)\n",
        "\n",
        "# Adding two vectors using operator overloading\n",
        "result = v1 + v2  # Calls v1.__add__(v2)\n",
        "\n",
        "# Displaying result\n",
        "print(f\"Vector 1: {v1}\")  # Output: Vector 1: (3, 4)\n",
        "print(f\"Vector 2: {v2}\")  # Output: Vector 2: (1, 2)\n",
        "print(f\"Sum: {result}\")   # Output: Sum: (4, 6)"
      ],
      "metadata": {
        "colab": {
          "base_uri": "https://localhost:8080/"
        },
        "id": "OS0sjA3t3sRa",
        "outputId": "b0208f8f-6c13-47af-fda3-0ca935768605"
      },
      "execution_count": null,
      "outputs": [
        {
          "output_type": "stream",
          "name": "stdout",
          "text": [
            "Vector 1: (3, 4)\n",
            "Vector 2: (1, 2)\n",
            "Sum: (4, 6)\n"
          ]
        }
      ]
    },
    {
      "cell_type": "markdown",
      "source": [
        "12.Implement a class Student with attributes name and grades. Create a method average_grade() to compute\n",
        "the average of the grades"
      ],
      "metadata": {
        "id": "0nzHRFaOvqB5"
      }
    },
    {
      "cell_type": "code",
      "source": [
        "class Student:\n",
        "    def __init__(self, name, grades):\n",
        "        self.name = name\n",
        "        self.grades = grades  # List of grades\n",
        "\n",
        "    def average_grade(self):\n",
        "        if not self.grades:  # Check if the list is empty\n",
        "            return 0\n",
        "        return sum(self.grades) / len(self.grades)  # Calculate average\n",
        "\n",
        "    def display_info(self):\n",
        "        print(f\"Student: {self.name}\")\n",
        "        print(f\"Grades: {self.grades}\")\n",
        "        print(f\"Average Grade: {self.average_grade():.2f}\")\n",
        "\n",
        "# Creating student instances\n",
        "s1 = Student(\"Alice\", [85, 90, 78, 92])\n",
        "s2 = Student(\"Bob\", [88, 76, 95, 89, 84])\n",
        "\n",
        "# Displaying student information\n",
        "s1.display_info()\n",
        "# Output:\n",
        "# Student: Alice\n",
        "# Grades: [85, 90, 78, 92]\n",
        "# Average Grade: 86.25\n",
        "\n",
        "s2.display_info()\n",
        "# Output:\n",
        "# Student: Bob\n",
        "# Grades: [88, 76, 95, 89, 84]\n",
        "# Average Grade: 86.40"
      ],
      "metadata": {
        "colab": {
          "base_uri": "https://localhost:8080/"
        },
        "id": "K_b0UKja3s5R",
        "outputId": "aafd30e5-2529-4a75-836f-d8c9fd7224f2"
      },
      "execution_count": null,
      "outputs": [
        {
          "output_type": "stream",
          "name": "stdout",
          "text": [
            "Student: Alice\n",
            "Grades: [85, 90, 78, 92]\n",
            "Average Grade: 86.25\n",
            "Student: Bob\n",
            "Grades: [88, 76, 95, 89, 84]\n",
            "Average Grade: 86.40\n"
          ]
        }
      ]
    },
    {
      "cell_type": "markdown",
      "source": [
        "13.Create a class Rectangle with methods set_dimensions() to set the dimensions and area() to calculate the\n",
        "area"
      ],
      "metadata": {
        "id": "FDHSW1zDvszM"
      }
    },
    {
      "cell_type": "code",
      "source": [
        "class Rectangle:\n",
        "    def __init__(self, length=0, width=0):\n",
        "        self.length = length\n",
        "        self.width = width\n",
        "\n",
        "    def set_dimensions(self, length, width):\n",
        "        self.length = length\n",
        "        self.width = width\n",
        "\n",
        "    def area(self):\n",
        "        return self.length * self.width\n",
        "\n",
        "    def display_info(self):\n",
        "        print(f\"Rectangle Dimensions: Length = {self.length}, Width = {self.width}\")\n",
        "        print(f\"Area: {self.area()}\")\n",
        "\n",
        "# Creating a rectangle instance\n",
        "rect = Rectangle()\n",
        "\n",
        "# Setting dimensions\n",
        "rect.set_dimensions(10, 5)\n",
        "\n",
        "# Displaying information\n",
        "rect.display_info()\n",
        "# Output:\n",
        "# Rectangle Dimensions: Length = 10, Width = 5\n",
        "# Area: 50"
      ],
      "metadata": {
        "colab": {
          "base_uri": "https://localhost:8080/"
        },
        "id": "cmLqkBot3t6E",
        "outputId": "7156b585-ecc0-4f5a-be24-00f40ca2b92a"
      },
      "execution_count": null,
      "outputs": [
        {
          "output_type": "stream",
          "name": "stdout",
          "text": [
            "Rectangle Dimensions: Length = 10, Width = 5\n",
            "Area: 50\n"
          ]
        }
      ]
    },
    {
      "cell_type": "markdown",
      "source": [
        "14.Create a class Employee with a method calculate_salary() that computes the salary based on hours worked\n",
        "and hourly rate. Create a derived class Manager that adds a bonus to the salary."
      ],
      "metadata": {
        "id": "lE6IeEfFvze4"
      }
    },
    {
      "cell_type": "code",
      "source": [
        "class Employee:\n",
        "    def __init__(self, name, hours_worked, hourly_rate):\n",
        "        self.name = name\n",
        "        self.hours_worked = hours_worked\n",
        "        self.hourly_rate = hourly_rate\n",
        "\n",
        "    def calculate_salary(self):\n",
        "        return self.hours_worked * self.hourly_rate\n",
        "\n",
        "    def display_info(self):\n",
        "        print(f\"Employee: {self.name}\")\n",
        "        print(f\"Salary: ${self.calculate_salary():.2f}\")\n",
        "\n",
        "# Derived class Manager (inherits from Employee)\n",
        "class Manager(Employee):\n",
        "    def __init__(self, name, hours_worked, hourly_rate, bonus):\n",
        "        super().__init__(name, hours_worked, hourly_rate)\n",
        "        self.bonus = bonus\n",
        "\n",
        "    def calculate_salary(self):\n",
        "        return super().calculate_salary() + self.bonus  # Adding bonus to salary\n",
        "\n",
        "    def display_info(self):\n",
        "        print(f\"Manager: {self.name}\")\n",
        "        print(f\"Salary (with bonus): ${self.calculate_salary():.2f}\")\n",
        "\n",
        "# Creating an Employee instance\n",
        "emp = Employee(\"Alice\", 40, 20)\n",
        "emp.display_info()\n",
        "# Output:\n",
        "# Employee: Alice\n",
        "# Salary: $800.00\n",
        "\n",
        "# Creating a Manager instance\n",
        "mgr = Manager(\"Bob\", 40, 30, 500)\n",
        "mgr.display_info()\n",
        "# Output:\n",
        "# Manager: Bob\n",
        "# Salary (with bonus): $1700.00"
      ],
      "metadata": {
        "colab": {
          "base_uri": "https://localhost:8080/"
        },
        "id": "E1x_d1h_3vFp",
        "outputId": "73966aa8-f271-4de9-ed7b-632777bfb30d"
      },
      "execution_count": null,
      "outputs": [
        {
          "output_type": "stream",
          "name": "stdout",
          "text": [
            "Employee: Alice\n",
            "Salary: $800.00\n",
            "Manager: Bob\n",
            "Salary (with bonus): $1700.00\n"
          ]
        }
      ]
    },
    {
      "cell_type": "markdown",
      "source": [
        "15.Create a class Product with attributes name, price, and quantity. Implement a method total_price() that\n",
        "calculates the total price of the product."
      ],
      "metadata": {
        "id": "EFbdhJYJv2NG"
      }
    },
    {
      "cell_type": "code",
      "source": [
        "class Product:\n",
        "    def __init__(self, name, price, quantity):\n",
        "        self.name = name\n",
        "        self.price = price\n",
        "        self.quantity = quantity\n",
        "\n",
        "    def total_price(self):\n",
        "        return self.price * self.quantity  # Calculate total price\n",
        "\n",
        "    def display_info(self):\n",
        "        print(f\"Product: {self.name}\")\n",
        "        print(f\"Price per unit: ${self.price:.2f}\")\n",
        "        print(f\"Quantity: {self.quantity}\")\n",
        "        print(f\"Total Price: ${self.total_price():.2f}\")\n",
        "\n",
        "# Creating product instances\n",
        "product1 = Product(\"Laptop\", 800, 2)\n",
        "product2 = Product(\"Smartphone\", 500, 3)\n",
        "\n",
        "# Displaying product details\n",
        "product1.display_info()\n",
        "# Output:\n",
        "# Product: Laptop\n",
        "# Price per unit: $800.00\n",
        "# Quantity: 2\n",
        "# Total Price: $1600.00\n",
        "\n",
        "product2.display_info()\n",
        "# Output:\n",
        "# Product: Smartphone\n",
        "# Price per unit: $500.00\n",
        "# Quantity: 3\n",
        "# Total Price: $1500.00"
      ],
      "metadata": {
        "colab": {
          "base_uri": "https://localhost:8080/"
        },
        "id": "96W_I4ab53cS",
        "outputId": "f700649a-0b3e-417a-fded-3358cad4a27e"
      },
      "execution_count": null,
      "outputs": [
        {
          "output_type": "stream",
          "name": "stdout",
          "text": [
            "Product: Laptop\n",
            "Price per unit: $800.00\n",
            "Quantity: 2\n",
            "Total Price: $1600.00\n",
            "Product: Smartphone\n",
            "Price per unit: $500.00\n",
            "Quantity: 3\n",
            "Total Price: $1500.00\n"
          ]
        }
      ]
    },
    {
      "cell_type": "markdown",
      "source": [
        "16.Create a class Animal with an abstract method sound(). Create two derived classes Cow and Sheep that\n",
        "implement the sound() method."
      ],
      "metadata": {
        "id": "zqiZX6TYv8Vs"
      }
    },
    {
      "cell_type": "code",
      "source": [
        "from abc import ABC, abstractmethod\n",
        "\n",
        "# Abstract base class\n",
        "class Animal(ABC):\n",
        "    @abstractmethod\n",
        "    def sound(self):\n",
        "        pass  # Abstract method to be implemented by subclasses\n",
        "\n",
        "# Derived class Cow\n",
        "class Cow(Animal):\n",
        "    def sound(self):\n",
        "        return \"Moo\"\n",
        "\n",
        "# Derived class Sheep\n",
        "class Sheep(Animal):\n",
        "    def sound(self):\n",
        "        return \"Baa\"\n",
        "\n",
        "# Creating instances of Cow and Sheep\n",
        "cow = Cow()\n",
        "sheep = Sheep()\n",
        "\n",
        "# Displaying their sounds\n",
        "print(f\"Cow says: {cow.sound()}\")   # Output: Cow says: Moo\n",
        "print(f\"Sheep says: {sheep.sound()}\")  # Output: Sheep says: Baa"
      ],
      "metadata": {
        "colab": {
          "base_uri": "https://localhost:8080/"
        },
        "id": "sH74Ikpd53_k",
        "outputId": "bf3ce2bb-76d5-4791-f698-097158414707"
      },
      "execution_count": null,
      "outputs": [
        {
          "output_type": "stream",
          "name": "stdout",
          "text": [
            "Cow says: Moo\n",
            "Sheep says: Baa\n"
          ]
        }
      ]
    },
    {
      "cell_type": "markdown",
      "source": [
        "17.Create a class Book with attributes title, author, and year_published. Add a method get_book_info() that\n",
        "returns a formatted string with the book's details."
      ],
      "metadata": {
        "id": "CKbubbizv_3D"
      }
    },
    {
      "cell_type": "code",
      "source": [
        "class Book:\n",
        "    def __init__(self, title, author, year_published):\n",
        "        self.title = title\n",
        "        self.author = author\n",
        "        self.year_published = year_published\n",
        "\n",
        "    def get_book_info(self):\n",
        "        return f\"'{self.title}' by {self.author}, published in {self.year_published}.\"\n",
        "\n",
        "# Creating book instances\n",
        "book1 = Book(\"To Kill a Mockingbird\", \"Harper Lee\", 1960)\n",
        "book2 = Book(\"1984\", \"George Orwell\", 1949)\n",
        "\n",
        "# Displaying book details\n",
        "print(book1.get_book_info())  # Output: 'To Kill a Mockingbird' by Harper Lee, published in 1960.\n",
        "print(book2.get_book_info())  # Output: '1984' by George Orwell, published in 1949."
      ],
      "metadata": {
        "colab": {
          "base_uri": "https://localhost:8080/"
        },
        "id": "BECNsZMR5461",
        "outputId": "772d9eff-2156-478c-fcb7-f9f68f534080"
      },
      "execution_count": null,
      "outputs": [
        {
          "output_type": "stream",
          "name": "stdout",
          "text": [
            "'To Kill a Mockingbird' by Harper Lee, published in 1960.\n",
            "'1984' by George Orwell, published in 1949.\n"
          ]
        }
      ]
    },
    {
      "cell_type": "markdown",
      "source": [
        "18.Create a class House with attributes address and price. Create a derived class Mansion that adds an\n",
        "attribute number_of_rooms"
      ],
      "metadata": {
        "id": "kDy5FJVKwFsP"
      }
    },
    {
      "cell_type": "code",
      "source": [
        "class House:\n",
        "    def __init__(self, address, price):\n",
        "        self.address = address\n",
        "        self.price = price\n",
        "\n",
        "    def get_info(self):\n",
        "        return f\"House located at {self.address}, priced at ${self.price:,}.\"\n",
        "\n",
        "# Derived class Mansion\n",
        "class Mansion(House):\n",
        "    def __init__(self, address, price, number_of_rooms):\n",
        "        super().__init__(address, price)\n",
        "        self.number_of_rooms = number_of_rooms\n",
        "\n",
        "    def get_info(self):\n",
        "        return f\"Mansion located at {self.address}, priced at ${self.price:,} with {self.number_of_rooms} rooms.\"\n",
        "\n",
        "# Creating instances\n",
        "house = House(\"123 Main St\", 250000)\n",
        "mansion = Mansion(\"456 Luxury Ave\", 5000000, 15)\n",
        "\n",
        "# Displaying house details\n",
        "print(house.get_info())\n",
        "# Output: House located at 123 Main St, priced at $250,000.\n",
        "\n",
        "print(mansion.get_info())\n",
        "# Output: Mansion located at 456 Luxury Ave, priced at $5,000,000 with 15 rooms."
      ],
      "metadata": {
        "colab": {
          "base_uri": "https://localhost:8080/"
        },
        "id": "7totqIaP5539",
        "outputId": "673b0504-a3b2-468c-8abd-be22a7e60316"
      },
      "execution_count": null,
      "outputs": [
        {
          "output_type": "stream",
          "name": "stdout",
          "text": [
            "House located at 123 Main St, priced at $250,000.\n",
            "Mansion located at 456 Luxury Ave, priced at $5,000,000 with 15 rooms.\n"
          ]
        }
      ]
    }
  ]
}